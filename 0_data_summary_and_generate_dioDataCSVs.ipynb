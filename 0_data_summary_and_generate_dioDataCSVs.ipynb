{
 "cells": [
  {
   "cell_type": "markdown",
   "metadata": {},
   "source": [
    "## Data Summary"
   ]
  },
  {
   "cell_type": "code",
   "execution_count": 1,
   "metadata": {},
   "outputs": [],
   "source": [
    "from collections import defaultdict\n",
    "from collections import Counter\n",
    "import numpy as np"
   ]
  },
  {
   "cell_type": "code",
   "execution_count": 2,
   "metadata": {},
   "outputs": [],
   "source": [
    "intents = defaultdict(int)\n",
    "attr_dict = defaultdict(Counter)"
   ]
  },
  {
   "cell_type": "code",
   "execution_count": 3,
   "metadata": {},
   "outputs": [],
   "source": [
    "with open('./Multiwoz/WOZ_train_ans.txt') as f:\n",
    "    for line in f:\n",
    "        line = line.strip()\n",
    "        comps = line.split('|')\n",
    "        # count intent\n",
    "        intent = comps[0]\n",
    "        intents[intent] += 1\n",
    "        \n",
    "        if len(comps) > 1:\n",
    "            attrs = comps[1:]\n",
    "        \n",
    "            for attr in attrs:\n",
    "                attr_type, ans = tuple(attr.split('='))\n",
    "                attr_dict[attr_type].update([ans])"
   ]
  },
  {
   "cell_type": "code",
   "execution_count": 4,
   "metadata": {},
   "outputs": [
    {
     "data": {
      "text/plain": [
       "defaultdict(int, {'find_hotel': 1609, 'find_restaurant': 2151})"
      ]
     },
     "execution_count": 4,
     "metadata": {},
     "output_type": "execute_result"
    }
   ],
   "source": [
    "intents"
   ]
  },
  {
   "cell_type": "code",
   "execution_count": 5,
   "metadata": {},
   "outputs": [
    {
     "data": {
      "text/plain": [
       "dict_keys(['hotel-area', 'hotel-internet', 'hotel-parking', 'hotel-name', 'restaurant-food', 'restaurant-pricerange', 'restaurant-area', 'restaurant-name', 'hotel-pricerange', 'hotel-type', 'hotel-stars'])"
      ]
     },
     "execution_count": 5,
     "metadata": {},
     "output_type": "execute_result"
    }
   ],
   "source": [
    "attr_dict.keys()"
   ]
  },
  {
   "cell_type": "code",
   "execution_count": 6,
   "metadata": {},
   "outputs": [
    {
     "data": {
      "text/plain": [
       "Counter({'centre': 62,\n",
       "         'north': 122,\n",
       "         'west': 45,\n",
       "         'south': 34,\n",
       "         'dontcare': 2,\n",
       "         'east': 61})"
      ]
     },
     "execution_count": 6,
     "metadata": {},
     "output_type": "execute_result"
    }
   ],
   "source": [
    "attr_dict['hotel-area']"
   ]
  },
  {
   "cell_type": "code",
   "execution_count": 8,
   "metadata": {},
   "outputs": [
    {
     "data": {
      "text/plain": [
       "Counter({'yes': 306, 'dontcare': 27, 'no': 16})"
      ]
     },
     "execution_count": 8,
     "metadata": {},
     "output_type": "execute_result"
    }
   ],
   "source": [
    "attr_dict['hotel-internet']"
   ]
  },
  {
   "cell_type": "code",
   "execution_count": 9,
   "metadata": {},
   "outputs": [
    {
     "data": {
      "text/plain": [
       "Counter({'yes': 287, 'no': 20, 'dontcare': 28})"
      ]
     },
     "execution_count": 9,
     "metadata": {},
     "output_type": "execute_result"
    }
   ],
   "source": [
    "attr_dict['hotel-parking']"
   ]
  },
  {
   "cell_type": "code",
   "execution_count": 10,
   "metadata": {},
   "outputs": [
    {
     "data": {
      "text/plain": [
       "Counter({'expensive': 75, 'cheap': 114, 'moderate': 139, 'dontcare': 1})"
      ]
     },
     "execution_count": 10,
     "metadata": {},
     "output_type": "execute_result"
    }
   ],
   "source": [
    "attr_dict['hotel-pricerange']"
   ]
  },
  {
   "cell_type": "code",
   "execution_count": 11,
   "metadata": {},
   "outputs": [
    {
     "data": {
      "text/plain": [
       "Counter({'hotel': 261, 'guesthouse': 271, 'dontcare': 5})"
      ]
     },
     "execution_count": 11,
     "metadata": {},
     "output_type": "execute_result"
    }
   ],
   "source": [
    "attr_dict['hotel-type']"
   ]
  },
  {
   "cell_type": "code",
   "execution_count": 12,
   "metadata": {},
   "outputs": [
    {
     "data": {
      "text/plain": [
       "Counter({'4': 210, '2': 22, '0': 37, '3': 64, '1': 11, '5': 10, 'dontcare': 1})"
      ]
     },
     "execution_count": 12,
     "metadata": {},
     "output_type": "execute_result"
    }
   ],
   "source": [
    "attr_dict['hotel-stars']"
   ]
  },
  {
   "cell_type": "code",
   "execution_count": 13,
   "metadata": {},
   "outputs": [
    {
     "data": {
      "text/plain": [
       "Counter({'centre': 419,\n",
       "         'south': 159,\n",
       "         'west': 142,\n",
       "         'east': 133,\n",
       "         'dontcare': 25,\n",
       "         'north': 131})"
      ]
     },
     "execution_count": 13,
     "metadata": {},
     "output_type": "execute_result"
    }
   ],
   "source": [
    "attr_dict['restaurant-area']"
   ]
  },
  {
   "cell_type": "code",
   "execution_count": 16,
   "metadata": {},
   "outputs": [
    {
     "data": {
      "text/plain": [
       "Counter({'cheap': 274, 'expensive': 433, 'moderate': 320, 'dontcare': 20})"
      ]
     },
     "execution_count": 16,
     "metadata": {},
     "output_type": "execute_result"
    }
   ],
   "source": [
    "attr_dict['restaurant-pricerange']"
   ]
  },
  {
   "cell_type": "code",
   "execution_count": 17,
   "metadata": {},
   "outputs": [
    {
     "data": {
      "text/plain": [
       "Counter({'centre': 419,\n",
       "         'south': 159,\n",
       "         'west': 142,\n",
       "         'east': 133,\n",
       "         'dontcare': 25,\n",
       "         'north': 131})"
      ]
     },
     "execution_count": 17,
     "metadata": {},
     "output_type": "execute_result"
    }
   ],
   "source": [
    "attr_dict['restaurant-area']"
   ]
  },
  {
   "cell_type": "markdown",
   "metadata": {},
   "source": [
    "## Convert txt files into dataframe"
   ]
  },
  {
   "cell_type": "code",
   "execution_count": 18,
   "metadata": {},
   "outputs": [],
   "source": [
    "hotel_attrs = [\n",
    "    \"hotel-area\",\n",
    "    \"hotel-internet\",\n",
    "    \"hotel-parking\",\n",
    "    \"hotel-name\",\n",
    "    \"hotel-pricerange\",\n",
    "    \"hotel-type\",\n",
    "    \"hotel-stars\"\n",
    "]\n",
    "\n",
    "restaurant_attrs = [\n",
    "    'restaurant-food', \n",
    "    'restaurant-pricerange', \n",
    "    'restaurant-area', \n",
    "    'restaurant-name'\n",
    "]"
   ]
  },
  {
   "cell_type": "code",
   "execution_count": 19,
   "metadata": {},
   "outputs": [],
   "source": [
    "HEADERS = ['find_hotel', 'find_restaurant', 'utts'] + hotel_attrs + restaurant_attrs"
   ]
  },
  {
   "cell_type": "code",
   "execution_count": 20,
   "metadata": {},
   "outputs": [],
   "source": [
    "import csv"
   ]
  },
  {
   "cell_type": "code",
   "execution_count": 21,
   "metadata": {},
   "outputs": [],
   "source": [
    "def write_data_to_df(file_in_utt, file_in_ans, file_out):\n",
    "    \"\"\"Write utterances and answers into DataFrame format based on \n",
    "    the given file_in_utt and file_in_ans, and name the output file file_out\n",
    "    \"\"\"\n",
    "    with open(file_out, 'w') as fout:\n",
    "        writer = csv.DictWriter(fout, fieldnames=HEADERS)\n",
    "        writer.writeheader()\n",
    "\n",
    "        with open(file_in_ans) as f_ans, open(file_in_utt) as f_utt:\n",
    "            for ans, utt in zip(f_ans, f_utt):\n",
    "                row = {attr: None for attr in HEADERS}\n",
    "                utt = utt.strip()\n",
    "                row['utts'] = utt\n",
    "\n",
    "                comps = ans.split('|')\n",
    "                intent = comps[0].strip('\\n')\n",
    "                row[intent] = 1\n",
    "\n",
    "                if len(comps) > 1:\n",
    "                    for comp in comps[1:]:\n",
    "                        attr_type, ans = tuple(comp.split('='))\n",
    "                        row[attr_type] = ans.strip('\\n')\n",
    "\n",
    "                writer.writerow(row)"
   ]
  },
  {
   "cell_type": "code",
   "execution_count": 22,
   "metadata": {},
   "outputs": [],
   "source": [
    "def write_test_df(file_in_utt, file_out):\n",
    "    \"\"\"Write the test utterances in file_in_utt to a DataFrame, file_out\"\"\"\n",
    "    with open(file_out, 'w') as fout:\n",
    "        writer = csv.DictWriter(fout, fieldnames=HEADERS)\n",
    "        writer.writeheader()\n",
    "\n",
    "        with open(file_in_utt) as f_utt:\n",
    "            for utt in f_utt:\n",
    "                row = {attr: None for attr in HEADERS}\n",
    "                utt = utt.strip()\n",
    "                row['utts'] = utt\n",
    "                writer.writerow(row)"
   ]
  },
  {
   "cell_type": "code",
   "execution_count": 23,
   "metadata": {},
   "outputs": [],
   "source": [
    "# write_data_to_df('../Multiwoz/WOZ_train_utt.txt', '../Multiwoz/WOZ_train_ans.txt', '../data/dioData_train.csv')"
   ]
  },
  {
   "cell_type": "code",
   "execution_count": 24,
   "metadata": {},
   "outputs": [],
   "source": [
    "# write_data_to_df('../Multiwoz/WOZ_dev_utt.txt', '../Multiwoz/WOZ_dev_ans.txt', '../data/dioData_dev.csv')"
   ]
  },
  {
   "cell_type": "code",
   "execution_count": 369,
   "metadata": {},
   "outputs": [],
   "source": [
    "# write_test_df('../Multiwoz/WOZ_test_utt.txt', '../data/dioData_test.csv')"
   ]
  },
  {
   "cell_type": "code",
   "execution_count": null,
   "metadata": {},
   "outputs": [],
   "source": []
  },
  {
   "cell_type": "code",
   "execution_count": null,
   "metadata": {},
   "outputs": [],
   "source": []
  }
 ],
 "metadata": {
  "kernelspec": {
   "display_name": "Python 3",
   "language": "python",
   "name": "python3"
  },
  "language_info": {
   "codemirror_mode": {
    "name": "ipython",
    "version": 3
   },
   "file_extension": ".py",
   "mimetype": "text/x-python",
   "name": "python",
   "nbconvert_exporter": "python",
   "pygments_lexer": "ipython3",
   "version": "3.8.3"
  }
 },
 "nbformat": 4,
 "nbformat_minor": 4
}
