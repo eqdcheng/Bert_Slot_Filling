{
 "cells": [
  {
   "cell_type": "markdown",
   "metadata": {
    "id": "NJDGZHRtV_bd"
   },
   "source": [
    "## ML-approach to hotel-type, restaraunt-pricerange, and hotel-pricerange"
   ]
  },
  {
   "cell_type": "markdown",
   "metadata": {},
   "source": [
    "## 1. Hotel-type predictions"
   ]
  },
  {
   "cell_type": "code",
   "execution_count": 1,
   "metadata": {
    "id": "FI_OzDRHV_bk"
   },
   "outputs": [],
   "source": [
    "import pandas as pd\n",
    "import numpy as np\n",
    "from sklearn.pipeline import Pipeline, make_pipeline\n",
    "from sklearn.feature_extraction.text import CountVectorizer\n",
    "from sklearn.svm import SVC\n",
    "from sklearn.dummy import DummyClassifier\n",
    "from sklearn.metrics import accuracy_score"
   ]
  },
  {
   "cell_type": "code",
   "execution_count": 2,
   "metadata": {},
   "outputs": [],
   "source": [
    "def read_df_with_pred_intent(df_filename, intent_filename):\n",
    "    '''combine intent predictions with the given dataframe'''\n",
    "    df = pd.read_csv(df_filename)\n",
    "    with open(intent_filename) as f:\n",
    "        binary = f.read().splitlines()\n",
    "    df['intent'] = binary\n",
    "    return df"
   ]
  },
  {
   "cell_type": "code",
   "execution_count": 3,
   "metadata": {},
   "outputs": [],
   "source": [
    "train_df = read_df_with_pred_intent('dioData_train.csv', 'train_binary_intent_pred.txt')\n",
    "dev_df = read_df_with_pred_intent('dioData_dev.csv', 'dev_binary_intent_pred.txt')"
   ]
  },
  {
   "cell_type": "code",
   "execution_count": 4,
   "metadata": {
    "id": "7k1SaSwyV_bm"
   },
   "outputs": [],
   "source": [
    "hotel_train_df = train_df[train_df['intent'] == 'hotel']\n",
    "hotel_dev_df = dev_df[dev_df['intent'] == 'hotel']"
   ]
  },
  {
   "cell_type": "code",
   "execution_count": 5,
   "metadata": {
    "id": "fVOudKbQV_bm"
   },
   "outputs": [],
   "source": [
    "X_train = hotel_train_df['utts']\n",
    "y_train = hotel_train_df['hotel-type'].replace(np.nan, 'dontknow')\n",
    "X_dev = hotel_dev_df['utts']\n",
    "y_dev = hotel_dev_df['hotel-type'].replace(np.nan, 'dontknow')"
   ]
  },
  {
   "cell_type": "markdown",
   "metadata": {},
   "source": [
    "### Baseline DummyClassifier"
   ]
  },
  {
   "cell_type": "code",
   "execution_count": 6,
   "metadata": {
    "id": "zq4P336QV_bn"
   },
   "outputs": [],
   "source": [
    "pipe = make_pipeline(CountVectorizer(), DummyClassifier())"
   ]
  },
  {
   "cell_type": "code",
   "execution_count": 7,
   "metadata": {
    "id": "3TzI2weKV_bn",
    "outputId": "b194be97-2101-4476-c16a-c264d467ac43"
   },
   "outputs": [
    {
     "name": "stderr",
     "output_type": "stream",
     "text": [
      "/Users/jeremy.zhang/opt/miniconda3/lib/python3.7/site-packages/sklearn/dummy.py:132: FutureWarning: The default value of strategy will change from stratified to prior in 0.24.\n",
      "  \"stratified to prior in 0.24.\", FutureWarning)\n"
     ]
    },
    {
     "data": {
      "text/plain": [
       "Pipeline(steps=[('countvectorizer', CountVectorizer()),\n",
       "                ('dummyclassifier', DummyClassifier())])"
      ]
     },
     "execution_count": 7,
     "metadata": {},
     "output_type": "execute_result"
    }
   ],
   "source": [
    "pipe.fit(X_train, y_train)"
   ]
  },
  {
   "cell_type": "code",
   "execution_count": 8,
   "metadata": {
    "id": "8f7kfQRTV_bo",
    "outputId": "b4f3792a-b597-4166-f4d5-51dcb9c702fd"
   },
   "outputs": [
    {
     "data": {
      "text/plain": [
       "0.4872591671845867"
      ]
     },
     "execution_count": 8,
     "metadata": {},
     "output_type": "execute_result"
    }
   ],
   "source": [
    "pipe.score(X_train, y_train)"
   ]
  },
  {
   "cell_type": "markdown",
   "metadata": {
    "id": "y_xqgh3bV_bp"
   },
   "source": [
    "### SVC"
   ]
  },
  {
   "cell_type": "code",
   "execution_count": 9,
   "metadata": {
    "id": "og6NlhX6V_bp",
    "outputId": "c9eda1ec-a365-4f5a-8378-06eee694c4e0"
   },
   "outputs": [
    {
     "name": "stdout",
     "output_type": "stream",
     "text": [
      "training score:  0.8831572405220633\n",
      "validation score:  0.8686868686868687\n"
     ]
    }
   ],
   "source": [
    "pipe_svc = make_pipeline(CountVectorizer(), SVC())\n",
    "pipe_svc.fit(X_train, y_train)\n",
    "print(\"training score: \", pipe_svc.score(X_train, y_train))\n",
    "print(\"validation score: \", pipe_svc.score(X_dev, y_dev))"
   ]
  },
  {
   "cell_type": "markdown",
   "metadata": {
    "id": "MZCBto3dV_bp"
   },
   "source": [
    "### Random Forest"
   ]
  },
  {
   "cell_type": "code",
   "execution_count": 10,
   "metadata": {
    "id": "_ehubvH6V_bq",
    "outputId": "5c78225c-ba9b-4953-b505-8522882b18c5"
   },
   "outputs": [
    {
     "name": "stdout",
     "output_type": "stream",
     "text": [
      "training score:  0.98\n",
      "validation score:  0.818\n"
     ]
    }
   ],
   "source": [
    "# Random Forest\n",
    "from sklearn.ensemble import RandomForestClassifier\n",
    "pipe_rf = make_pipeline(CountVectorizer(ngram_range = (1, 3), \n",
    "                                        lowercase = True, \n",
    "                                        stop_words = 'english'\n",
    "#                                         max_features = 2500\n",
    "                                       ), \n",
    "                        RandomForestClassifier())\n",
    "pipe_rf.fit(X_train, y_train)\n",
    "print(\"training score: \", round(pipe_rf.score(X_train, y_train), 3))\n",
    "print(\"validation score: \", round(pipe_rf.score(X_dev, y_dev), 3))"
   ]
  },
  {
   "cell_type": "markdown",
   "metadata": {},
   "source": [
    "### Prediction on dev set"
   ]
  },
  {
   "cell_type": "code",
   "execution_count": 11,
   "metadata": {
    "id": "cfNAzXJDV_bq"
   },
   "outputs": [],
   "source": [
    "X_dev_hotel_type_pred = pipe_svc.predict(X_dev)"
   ]
  },
  {
   "cell_type": "code",
   "execution_count": 12,
   "metadata": {},
   "outputs": [],
   "source": [
    "dev_hotel_type_pred_df = pd.DataFrame(\n",
    "    {\n",
    "        \"utts\": X_dev,\n",
    "        \"hotel-type\": X_dev_hotel_type_pred,\n",
    "    }\n",
    ")"
   ]
  },
  {
   "cell_type": "code",
   "execution_count": 13,
   "metadata": {},
   "outputs": [],
   "source": [
    "empty_dev = dev_df[[\"utts\"]]"
   ]
  },
  {
   "cell_type": "code",
   "execution_count": 14,
   "metadata": {},
   "outputs": [],
   "source": [
    "combined_dev = empty_dev.join(dev_hotel_type_pred_df, rsuffix=\"_hotel\").replace(\n",
    "    \"dontknow\", np.nan\n",
    ")"
   ]
  },
  {
   "cell_type": "code",
   "execution_count": 15,
   "metadata": {},
   "outputs": [
    {
     "data": {
      "text/plain": [
       "0                                                    NaN\n",
       "1      My husband and I are celebrating our anniversa...\n",
       "2                                                    NaN\n",
       "3      Are there any accommodations in the east part ...\n",
       "4      I'm looking for a nice place to stay, somewher...\n",
       "                             ...                        \n",
       "408    I'm looking for info about 4-star accommodatio...\n",
       "409                                                  NaN\n",
       "410                                                  NaN\n",
       "411                                                  NaN\n",
       "412                                                  NaN\n",
       "Name: utts_hotel, Length: 413, dtype: object"
      ]
     },
     "execution_count": 15,
     "metadata": {},
     "output_type": "execute_result"
    }
   ],
   "source": [
    "combined_dev.pop('utts_hotel')"
   ]
  },
  {
   "cell_type": "code",
   "execution_count": 16,
   "metadata": {},
   "outputs": [],
   "source": [
    "combined_dev.to_csv('dev_hotel_type_pred.csv')"
   ]
  },
  {
   "cell_type": "markdown",
   "metadata": {},
   "source": [
    "### Prediction on TEST set"
   ]
  },
  {
   "cell_type": "code",
   "execution_count": 17,
   "metadata": {},
   "outputs": [],
   "source": [
    "test_df = read_df_with_pred_intent('dioData_test.csv', 'test_binary_intent_pred.txt')"
   ]
  },
  {
   "cell_type": "code",
   "execution_count": 18,
   "metadata": {},
   "outputs": [],
   "source": [
    "hotel_test_df = test_df[test_df['intent'] == 'hotel']"
   ]
  },
  {
   "cell_type": "code",
   "execution_count": 19,
   "metadata": {},
   "outputs": [],
   "source": [
    "X_test = hotel_test_df['utts']"
   ]
  },
  {
   "cell_type": "code",
   "execution_count": 20,
   "metadata": {},
   "outputs": [],
   "source": [
    "import warnings\n",
    "warnings.filterwarnings(\"ignore\")"
   ]
  },
  {
   "cell_type": "code",
   "execution_count": 21,
   "metadata": {},
   "outputs": [],
   "source": [
    "hotel_test_df['hotel-type'] = pipe_svc.predict(X_test)"
   ]
  },
  {
   "cell_type": "code",
   "execution_count": 22,
   "metadata": {},
   "outputs": [],
   "source": [
    "combined_dev = test_df[['utts']].join(hotel_test_df, rsuffix=\"_hotel\").replace(\n",
    "    \"dontknow\", np.nan\n",
    ")"
   ]
  },
  {
   "cell_type": "code",
   "execution_count": 23,
   "metadata": {},
   "outputs": [],
   "source": [
    "combined_dev[\n",
    "    [\"utts\", \"hotel-type\"]\n",
    "].to_csv(\"test_hotel_type_pred.csv\")"
   ]
  },
  {
   "cell_type": "markdown",
   "metadata": {
    "id": "7DAztZhIWa-W"
   },
   "source": [
    "## 2. Hotel-pricerange/Restaraunt-pricerange "
   ]
  },
  {
   "cell_type": "code",
   "execution_count": 24,
   "metadata": {
    "id": "Do1I9FaZaPgu"
   },
   "outputs": [],
   "source": [
    "train_utt = train_df[\"utts\"].tolist()\n",
    "dev_utt = dev_df[\"utts\"].tolist()\n",
    "test_utt = test_df[\"utts\"].tolist()"
   ]
  },
  {
   "cell_type": "markdown",
   "metadata": {
    "id": "TtyIoinOWTSN"
   },
   "source": [
    "### 2.1. Restaraunt-pricerange "
   ]
  },
  {
   "cell_type": "code",
   "execution_count": 25,
   "metadata": {
    "id": "gHtH_ggQWYfV"
   },
   "outputs": [],
   "source": [
    "rest_preds = train_df[\"restaurant-pricerange\"].tolist()\n",
    "dev_rest_preds = dev_df[\"restaurant-pricerange\"].tolist()"
   ]
  },
  {
   "cell_type": "markdown",
   "metadata": {
    "id": "pMDpaGBAaWmx"
   },
   "source": [
    "### SVC"
   ]
  },
  {
   "cell_type": "code",
   "execution_count": 26,
   "metadata": {
    "colab": {
     "base_uri": "https://localhost:8080/"
    },
    "executionInfo": {
     "elapsed": 2461,
     "status": "ok",
     "timestamp": 1619223984899,
     "user": {
      "displayName": "Daniel Cheng",
      "photoUrl": "https://lh3.googleusercontent.com/a-/AOh14GiXddUAIA1apVjF6hXVvlJ5R1vLNoOK_90Hv2KtWd8=s64",
      "userId": "08638473154741157123"
     },
     "user_tz": 420
    },
    "id": "USmL0xXGYmzm",
    "outputId": "ffee15e4-a27a-4cb2-90a8-5a9425f1e605"
   },
   "outputs": [
    {
     "name": "stdout",
     "output_type": "stream",
     "text": [
      "training score:  0.9859042553191489\n",
      "validation score:  0.9806295399515739\n"
     ]
    }
   ],
   "source": [
    "pipe_SVC_rest = make_pipeline(CountVectorizer(), SVC())\n",
    "pipe_SVC_rest.fit(train_utt, rest_preds)\n",
    "print(\"training score: \", pipe_SVC_rest.score(train_utt, rest_preds))\n",
    "print(\"validation score: \", pipe_SVC_rest.score(dev_utt, dev_rest_preds))"
   ]
  },
  {
   "cell_type": "markdown",
   "metadata": {
    "id": "K3FR07xNac7-"
   },
   "source": [
    "### Logistic Regression"
   ]
  },
  {
   "cell_type": "code",
   "execution_count": 27,
   "metadata": {
    "colab": {
     "base_uri": "https://localhost:8080/"
    },
    "executionInfo": {
     "elapsed": 1211,
     "status": "ok",
     "timestamp": 1619223959592,
     "user": {
      "displayName": "Daniel Cheng",
      "photoUrl": "https://lh3.googleusercontent.com/a-/AOh14GiXddUAIA1apVjF6hXVvlJ5R1vLNoOK_90Hv2KtWd8=s64",
      "userId": "08638473154741157123"
     },
     "user_tz": 420
    },
    "id": "5iMPE9KVYmzm",
    "outputId": "5f1875ab-bca8-432f-a448-d91795fd4f67"
   },
   "outputs": [
    {
     "name": "stdout",
     "output_type": "stream",
     "text": [
      "training score:  0.9986702127659575\n",
      "validation score:  0.9854721549636803\n"
     ]
    }
   ],
   "source": [
    "from sklearn.linear_model import LogisticRegression\n",
    "pipe_lr_rest = make_pipeline(CountVectorizer(ngram_range = (1,2), \n",
    "                                        lowercase = True,\n",
    "                                        stop_words = 'english'),\n",
    "                        LogisticRegression())\n",
    "pipe_lr_rest.fit(train_utt, rest_preds)\n",
    "print(\"training score: \", pipe_lr_rest.score(train_utt, rest_preds))\n",
    "print(\"validation score: \", pipe_lr_rest.score(dev_utt, dev_rest_preds))"
   ]
  },
  {
   "cell_type": "markdown",
   "metadata": {
    "id": "ndPZED5ZalHf"
   },
   "source": [
    "### RandomForest (best)"
   ]
  },
  {
   "cell_type": "code",
   "execution_count": 28,
   "metadata": {
    "colab": {
     "base_uri": "https://localhost:8080/"
    },
    "executionInfo": {
     "elapsed": 1755,
     "status": "ok",
     "timestamp": 1619223940672,
     "user": {
      "displayName": "Daniel Cheng",
      "photoUrl": "https://lh3.googleusercontent.com/a-/AOh14GiXddUAIA1apVjF6hXVvlJ5R1vLNoOK_90Hv2KtWd8=s64",
      "userId": "08638473154741157123"
     },
     "user_tz": 420
    },
    "id": "QWREaTyJYmzn",
    "outputId": "a83444b3-de04-4f6f-eded-05d9085f5c3d"
   },
   "outputs": [
    {
     "name": "stdout",
     "output_type": "stream",
     "text": [
      "training score:  1.0\n",
      "validation score:  0.9878934624697336\n"
     ]
    }
   ],
   "source": [
    "from sklearn.ensemble import RandomForestClassifier\n",
    "pipe_rf_rest = make_pipeline(CountVectorizer(ngram_range = (1, 2), \n",
    "                                        lowercase = True, \n",
    "                                        stop_words = 'english'),\n",
    "                                        # max_features = 1000), \n",
    "                        RandomForestClassifier())\n",
    "pipe_rf_rest.fit(train_utt, rest_preds)\n",
    "print(\"training score: \", pipe_rf_rest.score(train_utt, rest_preds))\n",
    "print(\"validation score: \", pipe_rf_rest.score(dev_utt, dev_rest_preds))"
   ]
  },
  {
   "cell_type": "markdown",
   "metadata": {
    "id": "MLLAoKxsZKYR"
   },
   "source": [
    "### 2.2. Hotel-pricerange"
   ]
  },
  {
   "cell_type": "code",
   "execution_count": 29,
   "metadata": {
    "id": "JfcX8DoqYmzn"
   },
   "outputs": [],
   "source": [
    "hotel_preds = train_df[\"hotel-pricerange\"].tolist()\n",
    "dev_hotel_preds = dev_df[\"hotel-pricerange\"].tolist()"
   ]
  },
  {
   "cell_type": "code",
   "execution_count": 30,
   "metadata": {
    "colab": {
     "base_uri": "https://localhost:8080/"
    },
    "executionInfo": {
     "elapsed": 296,
     "status": "ok",
     "timestamp": 1619224096893,
     "user": {
      "displayName": "Daniel Cheng",
      "photoUrl": "https://lh3.googleusercontent.com/a-/AOh14GiXddUAIA1apVjF6hXVvlJ5R1vLNoOK_90Hv2KtWd8=s64",
      "userId": "08638473154741157123"
     },
     "user_tz": 420
    },
    "id": "xHuGOrBFYmzo",
    "outputId": "71a9a6d3-032e-4f73-f7b6-1a733d8d1d98"
   },
   "outputs": [
    {
     "data": {
      "text/plain": [
       "0.8375"
      ]
     },
     "execution_count": 30,
     "metadata": {},
     "output_type": "execute_result"
    }
   ],
   "source": [
    "pipe = make_pipeline(CountVectorizer(), DummyClassifier())\n",
    "pipe.fit(train_utt, hotel_preds)\n",
    "pipe.score(train_utt, hotel_preds)"
   ]
  },
  {
   "cell_type": "markdown",
   "metadata": {
    "id": "NFHXqgOdaa0d"
   },
   "source": [
    "### SVC"
   ]
  },
  {
   "cell_type": "code",
   "execution_count": 31,
   "metadata": {
    "colab": {
     "base_uri": "https://localhost:8080/"
    },
    "executionInfo": {
     "elapsed": 1989,
     "status": "ok",
     "timestamp": 1619224125546,
     "user": {
      "displayName": "Daniel Cheng",
      "photoUrl": "https://lh3.googleusercontent.com/a-/AOh14GiXddUAIA1apVjF6hXVvlJ5R1vLNoOK_90Hv2KtWd8=s64",
      "userId": "08638473154741157123"
     },
     "user_tz": 420
    },
    "id": "y0yPvGhMYmzo",
    "outputId": "c25d04c2-43d0-4b8c-e9cd-13e0e3a69ada"
   },
   "outputs": [
    {
     "name": "stdout",
     "output_type": "stream",
     "text": [
      "training score:  0.9933510638297872\n",
      "validation score:  0.9806295399515739\n"
     ]
    }
   ],
   "source": [
    "pipe_SVC_hotel = make_pipeline(CountVectorizer(), SVC())\n",
    "pipe_SVC_hotel.fit(train_utt, hotel_preds)\n",
    "print(\"training score: \", pipe_SVC_hotel.score(train_utt, hotel_preds))\n",
    "print(\"validation score: \", pipe_SVC_hotel.score(dev_utt, dev_hotel_preds))"
   ]
  },
  {
   "cell_type": "markdown",
   "metadata": {
    "id": "g-PEzNMdag0b"
   },
   "source": [
    "### Logistic Regression (best)"
   ]
  },
  {
   "cell_type": "code",
   "execution_count": 32,
   "metadata": {
    "colab": {
     "base_uri": "https://localhost:8080/"
    },
    "executionInfo": {
     "elapsed": 1183,
     "status": "ok",
     "timestamp": 1619224138546,
     "user": {
      "displayName": "Daniel Cheng",
      "photoUrl": "https://lh3.googleusercontent.com/a-/AOh14GiXddUAIA1apVjF6hXVvlJ5R1vLNoOK_90Hv2KtWd8=s64",
      "userId": "08638473154741157123"
     },
     "user_tz": 420
    },
    "id": "1xDP3p_VYmzo",
    "outputId": "7f9d9924-9e21-498f-f9bb-cb50264f3ddd"
   },
   "outputs": [
    {
     "name": "stdout",
     "output_type": "stream",
     "text": [
      "training score:  0.997872340425532\n",
      "validation score:  0.9927360774818402\n"
     ]
    }
   ],
   "source": [
    "pipe_lr_hotel = make_pipeline(CountVectorizer(ngram_range = (1,2), \n",
    "                                        lowercase = True,\n",
    "                                        stop_words = 'english'),\n",
    "                        LogisticRegression())\n",
    "pipe_lr_hotel.fit(train_utt, hotel_preds)\n",
    "print(\"training score: \", pipe_lr_hotel.score(train_utt, hotel_preds))\n",
    "print(\"validation score: \", pipe_lr_hotel.score(dev_utt, dev_hotel_preds))"
   ]
  },
  {
   "cell_type": "markdown",
   "metadata": {
    "id": "CFL-kGnXapOY"
   },
   "source": [
    "### RandomForest"
   ]
  },
  {
   "cell_type": "code",
   "execution_count": 33,
   "metadata": {
    "colab": {
     "base_uri": "https://localhost:8080/"
    },
    "executionInfo": {
     "elapsed": 1492,
     "status": "ok",
     "timestamp": 1619224149910,
     "user": {
      "displayName": "Daniel Cheng",
      "photoUrl": "https://lh3.googleusercontent.com/a-/AOh14GiXddUAIA1apVjF6hXVvlJ5R1vLNoOK_90Hv2KtWd8=s64",
      "userId": "08638473154741157123"
     },
     "user_tz": 420
    },
    "id": "qYCUD5nWYmzp",
    "outputId": "5d4ee05b-38f0-4d19-b6d4-54e68577f18b"
   },
   "outputs": [
    {
     "name": "stdout",
     "output_type": "stream",
     "text": [
      "training score:  0.9997340425531915\n",
      "validation score:  0.9757869249394673\n"
     ]
    }
   ],
   "source": [
    "pipe_rf_hotel = make_pipeline(CountVectorizer(ngram_range = (1, 2), \n",
    "                                        lowercase = True, \n",
    "                                        stop_words = 'english'),\n",
    "                                        #max_features = 1000), \n",
    "                        RandomForestClassifier())\n",
    "pipe_rf_hotel.fit(train_utt, hotel_preds)\n",
    "print(\"training score: \", pipe_rf_hotel.score(train_utt, hotel_preds))\n",
    "print(\"validation score: \", pipe_rf_hotel.score(dev_utt, dev_hotel_preds))"
   ]
  },
  {
   "cell_type": "markdown",
   "metadata": {
    "id": "GB3ve9utYmzp"
   },
   "source": [
    "## 3. Combine and output hotel/restaraunce-pricerange"
   ]
  },
  {
   "cell_type": "code",
   "execution_count": 34,
   "metadata": {
    "id": "SXJRYLxZYmzp"
   },
   "outputs": [],
   "source": [
    "final = pd.DataFrame({\"utts\":dev_utt,\n",
    "              \"hotel-pricerange\": pipe_lr_hotel.predict(dev_utt).tolist(),\n",
    "              \"restaurant-pricerange\": pipe_rf_rest.predict(dev_utt).tolist()})\n",
    "final.to_csv('dev_price_pred.csv')"
   ]
  },
  {
   "cell_type": "code",
   "execution_count": 35,
   "metadata": {
    "id": "8VwuvWWQa_YA"
   },
   "outputs": [],
   "source": [
    "final_test = pd.DataFrame({\"utts\":test_utt,\n",
    "              \"hotel-pricerange\": pipe_lr_hotel.predict(test_utt).tolist(),\n",
    "              \"restaurant-pricerange\": pipe_rf_rest.predict(test_utt).tolist()})\n",
    "final_test.to_csv('test_price_pred.csv')"
   ]
  },
  {
   "cell_type": "code",
   "execution_count": null,
   "metadata": {},
   "outputs": [],
   "source": []
  }
 ],
 "metadata": {
  "colab": {
   "name": "ml-based-approach.ipynb",
   "provenance": []
  },
  "kernelspec": {
   "display_name": "Python 3",
   "language": "python",
   "name": "python3"
  },
  "language_info": {
   "codemirror_mode": {
    "name": "ipython",
    "version": 3
   },
   "file_extension": ".py",
   "mimetype": "text/x-python",
   "name": "python",
   "nbconvert_exporter": "python",
   "pygments_lexer": "ipython3",
   "version": "3.8.3"
  }
 },
 "nbformat": 4,
 "nbformat_minor": 4
}
