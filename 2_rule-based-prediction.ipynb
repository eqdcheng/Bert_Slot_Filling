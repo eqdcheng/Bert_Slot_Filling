{
 "cells": [
  {
   "cell_type": "markdown",
   "metadata": {},
   "source": [
    "# Rule-based Approach\n",
    "- This predictions use the intent predictions from the previous step.\n",
    "- Aspects:\n",
    "    - `hotel-stars`, `hotel-internet`, `hotel-parking`, (success)\n",
    "    - `hotel-area`, `restaurant-area` (success)\n",
    "    - `hotel-type` (fail)"
   ]
  },
  {
   "cell_type": "code",
   "execution_count": 1,
   "metadata": {},
   "outputs": [
    {
     "name": "stderr",
     "output_type": "stream",
     "text": [
      "[nltk_data] Downloading package punkt to\n",
      "[nltk_data]     /Users/jeremy.zhang/nltk_data...\n",
      "[nltk_data]   Package punkt is already up-to-date!\n"
     ]
    },
    {
     "data": {
      "text/plain": [
       "True"
      ]
     },
     "execution_count": 1,
     "metadata": {},
     "output_type": "execute_result"
    }
   ],
   "source": [
    "import pandas as pd\n",
    "import numpy as np\n",
    "import nltk\n",
    "import nltk\n",
    "from sklearn.metrics import accuracy_score\n",
    "import warnings\n",
    "warnings.filterwarnings(\"ignore\")\n",
    "nltk.download('punkt')"
   ]
  },
  {
   "cell_type": "code",
   "execution_count": 2,
   "metadata": {},
   "outputs": [
    {
     "data": {
      "text/html": [
       "<div>\n",
       "<style scoped>\n",
       "    .dataframe tbody tr th:only-of-type {\n",
       "        vertical-align: middle;\n",
       "    }\n",
       "\n",
       "    .dataframe tbody tr th {\n",
       "        vertical-align: top;\n",
       "    }\n",
       "\n",
       "    .dataframe thead th {\n",
       "        text-align: right;\n",
       "    }\n",
       "</style>\n",
       "<table border=\"1\" class=\"dataframe\">\n",
       "  <thead>\n",
       "    <tr style=\"text-align: right;\">\n",
       "      <th></th>\n",
       "      <th>find_hotel</th>\n",
       "      <th>find_restaurant</th>\n",
       "      <th>utts</th>\n",
       "      <th>hotel-area</th>\n",
       "      <th>hotel-internet</th>\n",
       "      <th>hotel-parking</th>\n",
       "      <th>hotel-name</th>\n",
       "      <th>hotel-pricerange</th>\n",
       "      <th>hotel-type</th>\n",
       "      <th>hotel-stars</th>\n",
       "      <th>restaurant-food</th>\n",
       "      <th>restaurant-pricerange</th>\n",
       "      <th>restaurant-area</th>\n",
       "      <th>restaurant-name</th>\n",
       "    </tr>\n",
       "  </thead>\n",
       "  <tbody>\n",
       "    <tr>\n",
       "      <th>0</th>\n",
       "      <td>1.0</td>\n",
       "      <td>NaN</td>\n",
       "      <td>Guten Tag, I am staying overnight in Cambridge...</td>\n",
       "      <td>centre</td>\n",
       "      <td>yes</td>\n",
       "      <td>yes</td>\n",
       "      <td>NaN</td>\n",
       "      <td>NaN</td>\n",
       "      <td>NaN</td>\n",
       "      <td>NaN</td>\n",
       "      <td>NaN</td>\n",
       "      <td>NaN</td>\n",
       "      <td>NaN</td>\n",
       "      <td>NaN</td>\n",
       "    </tr>\n",
       "    <tr>\n",
       "      <th>1</th>\n",
       "      <td>1.0</td>\n",
       "      <td>NaN</td>\n",
       "      <td>Hi there! Can you give me some info on Cityroomz?</td>\n",
       "      <td>NaN</td>\n",
       "      <td>NaN</td>\n",
       "      <td>NaN</td>\n",
       "      <td>cityroomz</td>\n",
       "      <td>NaN</td>\n",
       "      <td>NaN</td>\n",
       "      <td>NaN</td>\n",
       "      <td>NaN</td>\n",
       "      <td>NaN</td>\n",
       "      <td>NaN</td>\n",
       "      <td>NaN</td>\n",
       "    </tr>\n",
       "    <tr>\n",
       "      <th>2</th>\n",
       "      <td>1.0</td>\n",
       "      <td>NaN</td>\n",
       "      <td>I am looking for a hotel named alyesbray lodge...</td>\n",
       "      <td>NaN</td>\n",
       "      <td>NaN</td>\n",
       "      <td>NaN</td>\n",
       "      <td>alyesbray lodge guest house</td>\n",
       "      <td>NaN</td>\n",
       "      <td>NaN</td>\n",
       "      <td>NaN</td>\n",
       "      <td>NaN</td>\n",
       "      <td>NaN</td>\n",
       "      <td>NaN</td>\n",
       "      <td>NaN</td>\n",
       "    </tr>\n",
       "    <tr>\n",
       "      <th>3</th>\n",
       "      <td>NaN</td>\n",
       "      <td>1.0</td>\n",
       "      <td>I am looking for a restaurant. I would like so...</td>\n",
       "      <td>NaN</td>\n",
       "      <td>NaN</td>\n",
       "      <td>NaN</td>\n",
       "      <td>NaN</td>\n",
       "      <td>NaN</td>\n",
       "      <td>NaN</td>\n",
       "      <td>NaN</td>\n",
       "      <td>chinese</td>\n",
       "      <td>cheap</td>\n",
       "      <td>NaN</td>\n",
       "      <td>NaN</td>\n",
       "    </tr>\n",
       "    <tr>\n",
       "      <th>4</th>\n",
       "      <td>NaN</td>\n",
       "      <td>1.0</td>\n",
       "      <td>I'm looking for an expensive restaurant in the...</td>\n",
       "      <td>NaN</td>\n",
       "      <td>NaN</td>\n",
       "      <td>NaN</td>\n",
       "      <td>NaN</td>\n",
       "      <td>NaN</td>\n",
       "      <td>NaN</td>\n",
       "      <td>NaN</td>\n",
       "      <td>NaN</td>\n",
       "      <td>expensive</td>\n",
       "      <td>centre</td>\n",
       "      <td>NaN</td>\n",
       "    </tr>\n",
       "  </tbody>\n",
       "</table>\n",
       "</div>"
      ],
      "text/plain": [
       "   find_hotel  find_restaurant  \\\n",
       "0         1.0              NaN   \n",
       "1         1.0              NaN   \n",
       "2         1.0              NaN   \n",
       "3         NaN              1.0   \n",
       "4         NaN              1.0   \n",
       "\n",
       "                                                utts hotel-area  \\\n",
       "0  Guten Tag, I am staying overnight in Cambridge...     centre   \n",
       "1  Hi there! Can you give me some info on Cityroomz?        NaN   \n",
       "2  I am looking for a hotel named alyesbray lodge...        NaN   \n",
       "3  I am looking for a restaurant. I would like so...        NaN   \n",
       "4  I'm looking for an expensive restaurant in the...        NaN   \n",
       "\n",
       "  hotel-internet hotel-parking                   hotel-name hotel-pricerange  \\\n",
       "0            yes           yes                          NaN              NaN   \n",
       "1            NaN           NaN                    cityroomz              NaN   \n",
       "2            NaN           NaN  alyesbray lodge guest house              NaN   \n",
       "3            NaN           NaN                          NaN              NaN   \n",
       "4            NaN           NaN                          NaN              NaN   \n",
       "\n",
       "  hotel-type hotel-stars restaurant-food restaurant-pricerange  \\\n",
       "0        NaN         NaN             NaN                   NaN   \n",
       "1        NaN         NaN             NaN                   NaN   \n",
       "2        NaN         NaN             NaN                   NaN   \n",
       "3        NaN         NaN         chinese                 cheap   \n",
       "4        NaN         NaN             NaN             expensive   \n",
       "\n",
       "  restaurant-area restaurant-name  \n",
       "0             NaN             NaN  \n",
       "1             NaN             NaN  \n",
       "2             NaN             NaN  \n",
       "3             NaN             NaN  \n",
       "4          centre             NaN  "
      ]
     },
     "execution_count": 2,
     "metadata": {},
     "output_type": "execute_result"
    }
   ],
   "source": [
    "train_df = pd.read_csv('../data/dioData_train.csv')\n",
    "train_df.head()"
   ]
  },
  {
   "cell_type": "code",
   "execution_count": 3,
   "metadata": {},
   "outputs": [
    {
     "data": {
      "text/plain": [
       "find_hotel               1609\n",
       "find_restaurant          2151\n",
       "utts                     3760\n",
       "hotel-area                326\n",
       "hotel-internet            349\n",
       "hotel-parking             335\n",
       "hotel-name                292\n",
       "hotel-pricerange          329\n",
       "hotel-type                537\n",
       "hotel-stars               355\n",
       "restaurant-food          1103\n",
       "restaurant-pricerange    1047\n",
       "restaurant-area          1009\n",
       "restaurant-name           264\n",
       "dtype: int64"
      ]
     },
     "execution_count": 3,
     "metadata": {},
     "output_type": "execute_result"
    }
   ],
   "source": [
    "train_df.count()"
   ]
  },
  {
   "cell_type": "markdown",
   "metadata": {},
   "source": [
    "#### Integrate train_data with the train_intent_predictions"
   ]
  },
  {
   "cell_type": "code",
   "execution_count": 4,
   "metadata": {},
   "outputs": [],
   "source": [
    "def read_intent_pred_and_combine(df, file_path):\n",
    "    '''read predicted intentions and combine with the current dataframe'''\n",
    "    with open(file_path, \"r\", encoding=\"utf-8\") as f:\n",
    "        intent = f.read().splitlines()\n",
    "    df[\"intent\"] = intent\n",
    "    return df"
   ]
  },
  {
   "cell_type": "code",
   "execution_count": 5,
   "metadata": {},
   "outputs": [],
   "source": [
    "train_df = read_intent_pred_and_combine(train_df, \"../predictions/0_train_binary_intent_pred.txt\")"
   ]
  },
  {
   "cell_type": "code",
   "execution_count": 6,
   "metadata": {},
   "outputs": [
    {
     "data": {
      "text/html": [
       "<div>\n",
       "<style scoped>\n",
       "    .dataframe tbody tr th:only-of-type {\n",
       "        vertical-align: middle;\n",
       "    }\n",
       "\n",
       "    .dataframe tbody tr th {\n",
       "        vertical-align: top;\n",
       "    }\n",
       "\n",
       "    .dataframe thead th {\n",
       "        text-align: right;\n",
       "    }\n",
       "</style>\n",
       "<table border=\"1\" class=\"dataframe\">\n",
       "  <thead>\n",
       "    <tr style=\"text-align: right;\">\n",
       "      <th></th>\n",
       "      <th>find_hotel</th>\n",
       "      <th>find_restaurant</th>\n",
       "      <th>utts</th>\n",
       "      <th>hotel-area</th>\n",
       "      <th>hotel-internet</th>\n",
       "      <th>hotel-parking</th>\n",
       "      <th>hotel-name</th>\n",
       "      <th>hotel-pricerange</th>\n",
       "      <th>hotel-type</th>\n",
       "      <th>hotel-stars</th>\n",
       "      <th>restaurant-food</th>\n",
       "      <th>restaurant-pricerange</th>\n",
       "      <th>restaurant-area</th>\n",
       "      <th>restaurant-name</th>\n",
       "      <th>intent</th>\n",
       "    </tr>\n",
       "  </thead>\n",
       "  <tbody>\n",
       "    <tr>\n",
       "      <th>0</th>\n",
       "      <td>1.0</td>\n",
       "      <td>NaN</td>\n",
       "      <td>Guten Tag, I am staying overnight in Cambridge...</td>\n",
       "      <td>centre</td>\n",
       "      <td>yes</td>\n",
       "      <td>yes</td>\n",
       "      <td>NaN</td>\n",
       "      <td>NaN</td>\n",
       "      <td>NaN</td>\n",
       "      <td>NaN</td>\n",
       "      <td>NaN</td>\n",
       "      <td>NaN</td>\n",
       "      <td>NaN</td>\n",
       "      <td>NaN</td>\n",
       "      <td>hotel</td>\n",
       "    </tr>\n",
       "    <tr>\n",
       "      <th>1</th>\n",
       "      <td>1.0</td>\n",
       "      <td>NaN</td>\n",
       "      <td>Hi there! Can you give me some info on Cityroomz?</td>\n",
       "      <td>NaN</td>\n",
       "      <td>NaN</td>\n",
       "      <td>NaN</td>\n",
       "      <td>cityroomz</td>\n",
       "      <td>NaN</td>\n",
       "      <td>NaN</td>\n",
       "      <td>NaN</td>\n",
       "      <td>NaN</td>\n",
       "      <td>NaN</td>\n",
       "      <td>NaN</td>\n",
       "      <td>NaN</td>\n",
       "      <td>hotel</td>\n",
       "    </tr>\n",
       "    <tr>\n",
       "      <th>2</th>\n",
       "      <td>1.0</td>\n",
       "      <td>NaN</td>\n",
       "      <td>I am looking for a hotel named alyesbray lodge...</td>\n",
       "      <td>NaN</td>\n",
       "      <td>NaN</td>\n",
       "      <td>NaN</td>\n",
       "      <td>alyesbray lodge guest house</td>\n",
       "      <td>NaN</td>\n",
       "      <td>NaN</td>\n",
       "      <td>NaN</td>\n",
       "      <td>NaN</td>\n",
       "      <td>NaN</td>\n",
       "      <td>NaN</td>\n",
       "      <td>NaN</td>\n",
       "      <td>hotel</td>\n",
       "    </tr>\n",
       "    <tr>\n",
       "      <th>3</th>\n",
       "      <td>NaN</td>\n",
       "      <td>1.0</td>\n",
       "      <td>I am looking for a restaurant. I would like so...</td>\n",
       "      <td>NaN</td>\n",
       "      <td>NaN</td>\n",
       "      <td>NaN</td>\n",
       "      <td>NaN</td>\n",
       "      <td>NaN</td>\n",
       "      <td>NaN</td>\n",
       "      <td>NaN</td>\n",
       "      <td>chinese</td>\n",
       "      <td>cheap</td>\n",
       "      <td>NaN</td>\n",
       "      <td>NaN</td>\n",
       "      <td>restaurant</td>\n",
       "    </tr>\n",
       "    <tr>\n",
       "      <th>4</th>\n",
       "      <td>NaN</td>\n",
       "      <td>1.0</td>\n",
       "      <td>I'm looking for an expensive restaurant in the...</td>\n",
       "      <td>NaN</td>\n",
       "      <td>NaN</td>\n",
       "      <td>NaN</td>\n",
       "      <td>NaN</td>\n",
       "      <td>NaN</td>\n",
       "      <td>NaN</td>\n",
       "      <td>NaN</td>\n",
       "      <td>NaN</td>\n",
       "      <td>expensive</td>\n",
       "      <td>centre</td>\n",
       "      <td>NaN</td>\n",
       "      <td>restaurant</td>\n",
       "    </tr>\n",
       "  </tbody>\n",
       "</table>\n",
       "</div>"
      ],
      "text/plain": [
       "   find_hotel  find_restaurant  \\\n",
       "0         1.0              NaN   \n",
       "1         1.0              NaN   \n",
       "2         1.0              NaN   \n",
       "3         NaN              1.0   \n",
       "4         NaN              1.0   \n",
       "\n",
       "                                                utts hotel-area  \\\n",
       "0  Guten Tag, I am staying overnight in Cambridge...     centre   \n",
       "1  Hi there! Can you give me some info on Cityroomz?        NaN   \n",
       "2  I am looking for a hotel named alyesbray lodge...        NaN   \n",
       "3  I am looking for a restaurant. I would like so...        NaN   \n",
       "4  I'm looking for an expensive restaurant in the...        NaN   \n",
       "\n",
       "  hotel-internet hotel-parking                   hotel-name hotel-pricerange  \\\n",
       "0            yes           yes                          NaN              NaN   \n",
       "1            NaN           NaN                    cityroomz              NaN   \n",
       "2            NaN           NaN  alyesbray lodge guest house              NaN   \n",
       "3            NaN           NaN                          NaN              NaN   \n",
       "4            NaN           NaN                          NaN              NaN   \n",
       "\n",
       "  hotel-type hotel-stars restaurant-food restaurant-pricerange  \\\n",
       "0        NaN         NaN             NaN                   NaN   \n",
       "1        NaN         NaN             NaN                   NaN   \n",
       "2        NaN         NaN             NaN                   NaN   \n",
       "3        NaN         NaN         chinese                 cheap   \n",
       "4        NaN         NaN             NaN             expensive   \n",
       "\n",
       "  restaurant-area restaurant-name      intent  \n",
       "0             NaN             NaN       hotel  \n",
       "1             NaN             NaN       hotel  \n",
       "2             NaN             NaN       hotel  \n",
       "3             NaN             NaN  restaurant  \n",
       "4          centre             NaN  restaurant  "
      ]
     },
     "execution_count": 6,
     "metadata": {},
     "output_type": "execute_result"
    }
   ],
   "source": [
    "train_df.head()"
   ]
  },
  {
   "cell_type": "markdown",
   "metadata": {},
   "source": [
    "### Create functions for predictions"
   ]
  },
  {
   "cell_type": "code",
   "execution_count": 7,
   "metadata": {},
   "outputs": [],
   "source": [
    "HOTEL_STAR_MAPS = {\n",
    "    'zero': '0',\n",
    "    'one': '1',\n",
    "    'two': '2',\n",
    "    'three': '3',\n",
    "    'four': '4',\n",
    "    'five': '5'\n",
    "}"
   ]
  },
  {
   "cell_type": "code",
   "execution_count": 8,
   "metadata": {},
   "outputs": [],
   "source": [
    "DONTCARE = r\"(((don't|doesn't|does not|do not) (need( to)?|care))|(not picky)|((not|n't) (a )?necessity)|(is optional))\"\n",
    "NEGATION = r\"((don't (want|need))|dont (want|need)|(doesn't need)|(don't need)|hate|(not needed))\""
   ]
  },
  {
   "cell_type": "code",
   "execution_count": 9,
   "metadata": {},
   "outputs": [],
   "source": [
    "import re\n",
    "def match_attribute(regex, utt):\n",
    "    '''Match text in utterances with regex specified'''\n",
    "    match = re.search(regex, utt)\n",
    "    if match:\n",
    "        return match.group()\n",
    "    return None"
   ]
  },
  {
   "cell_type": "code",
   "execution_count": 10,
   "metadata": {},
   "outputs": [],
   "source": [
    "def calculate_accuracy(subset_df, pred_column, pred_func):\n",
    "    '''Calculate accuracy based on the column to predict, pred_column and \n",
    "    prediction function, pred_func within the DataFrame specified. Also, it\n",
    "    writes error predictions to col-errors.csv'''\n",
    "    assert \"utts\" in subset_df\n",
    "\n",
    "    new_df = subset_df.copy()\n",
    "    new_df[f\"pred-{pred_column}\"] = new_df[\"utts\"].map(pred_func)\n",
    "    investigated_columns = [\"utts\", pred_column, f\"pred-{pred_column}\"]\n",
    "    new_df = new_df[investigated_columns].replace(np.nan, \"dontknow\")\n",
    "    acc = accuracy_score(\n",
    "        new_df[investigated_columns[1]], new_df[investigated_columns[2]]\n",
    "    )\n",
    "    return acc, new_df"
   ]
  },
  {
   "cell_type": "code",
   "execution_count": 11,
   "metadata": {},
   "outputs": [],
   "source": [
    "def predict_hotel_type(utt):\n",
    "    '''Preidct the hotel type based on the utterances'''\n",
    "    match_hotel = match_attribute(r\"hotel\", utt)\n",
    "    match_guesthouse = match_attribute(r\"(guesthouse|guest house)\", utt)\n",
    "    if match_guesthouse:  \n",
    "        if match_guesthouse == 'guest house':\n",
    "            match_guesthouse = 'guesthouse'\n",
    "        return match_guesthouse\n",
    "    return match_hotel"
   ]
  },
  {
   "cell_type": "code",
   "execution_count": 12,
   "metadata": {},
   "outputs": [],
   "source": [
    "def predict_hotel_internet(utt):\n",
    "    \"\"\"Predict whether the user needs hotel internet based on the utterances\"\"\"\n",
    "    sents = re.split(\"(but|,|and)\", utt.lower())\n",
    "    for sent in sents:\n",
    "        match_internet = match_attribute(\n",
    "            r\"(internet|Internet|wifi|wi-fi|free wifi)\", sent\n",
    "        )\n",
    "        match_dontcare = match_attribute(DONTCARE, sent)\n",
    "        match_negation = match_attribute(NEGATION, sent)\n",
    "\n",
    "        if match_internet and match_dontcare:\n",
    "            return \"dontcare\"\n",
    "        elif match_internet and match_negation:\n",
    "            return \"no\"\n",
    "        elif match_internet:\n",
    "            return \"yes\"\n",
    "    return \"dontknow\""
   ]
  },
  {
   "cell_type": "code",
   "execution_count": 13,
   "metadata": {},
   "outputs": [],
   "source": [
    "def predict_hotel_parking(utt):\n",
    "    '''Predict whether the user needs hotel parking based on the utterances'''\n",
    "    sents = re.split(\"(but|,|and)\", utt.lower())\n",
    "    for sent in sents:\n",
    "        match_parking = match_attribute(r'(parking|free parking)', sent)\n",
    "        match_dontcare = match_attribute(DONTCARE, sent)\n",
    "        match_negation = match_attribute(NEGATION, sent)\n",
    "        \n",
    "        if match_parking and match_negation:\n",
    "            return \"no\"\n",
    "        elif match_parking and match_dontcare:\n",
    "            return \"dontcare\"\n",
    "        elif match_parking:\n",
    "            return \"yes\"\n",
    "    return 'dontknow'"
   ]
  },
  {
   "cell_type": "code",
   "execution_count": 14,
   "metadata": {},
   "outputs": [],
   "source": [
    "def predict_hotel_star(utt):\n",
    "    \"\"\"Predict whether the user request hotel stars based on the utterances\"\"\"\n",
    "    match_star = match_attribute(\n",
    "        r\"((\\d|zero|one|two|three|four|five)(-| )?star)|(star (rating )?of (\\d|zero|one|two|three|four|five))\",\n",
    "        utt,\n",
    "    )\n",
    "    if match_star:\n",
    "        if match_star[0] in {\"0\", \"1\", \"2\", \"3\", \"4\", \"5\"}:\n",
    "            return match_star[0]\n",
    "        elif match_star.startswith(\"star\"):\n",
    "            if match_star[-1] in {\"0\", \"1\", \"2\", \"3\", \"4\", \"5\"}:\n",
    "                return match_star[-1]\n",
    "            else:\n",
    "                star = match_star.split()[-1]\n",
    "                return HOTEL_STAR_MAPS[star]\n",
    "        else:\n",
    "            star = re.split(\" |-\", match_star)[0]\n",
    "            return HOTEL_STAR_MAPS[star]\n",
    "    return \"dontknow\""
   ]
  },
  {
   "cell_type": "code",
   "execution_count": 15,
   "metadata": {},
   "outputs": [],
   "source": [
    "def predict_area(utt):\n",
    "    \"\"\"Predict whether the hotel are is north/centre/east/west/south/dontcare based on Gazzetters\"\"\"\n",
    "    direction = [\"north\", \"centre\", \"east\", \"west\", \"south\"]\n",
    "    lowercase = lambda s: s[:1].lower() + s[1:] if s else \"\"\n",
    "    ex = \"city centre north\"\n",
    "\n",
    "    for dir in direction:\n",
    "        if dir.capitalize() in utt:\n",
    "            dir = lowercase(dir)\n",
    "            return dir\n",
    "        if dir in utt and \"Cambridge\" in utt:\n",
    "            return dir\n",
    "        if dir in utt:\n",
    "            return dir\n",
    "    if \"center\" in utt or \"Center\" in utt or \"central\" in utt:\n",
    "        return \"centre\"\n",
    "    if ex in utt or ex.capitalize() in utt:\n",
    "        return \"dontcare\"\n",
    "    if \"east\" in nltk.word_tokenize(utt):\n",
    "        return \"east\"\n",
    "    return \"dontknow\""
   ]
  },
  {
   "cell_type": "code",
   "execution_count": 16,
   "metadata": {},
   "outputs": [],
   "source": [
    "hotel_df = train_df[train_df['intent'] == \"hotel\"]\n",
    "restaurant_df = train_df[train_df['intent'] == \"restaurant\"]"
   ]
  },
  {
   "cell_type": "code",
   "execution_count": 17,
   "metadata": {},
   "outputs": [
    {
     "data": {
      "text/plain": [
       "0.6681168427594779"
      ]
     },
     "execution_count": 17,
     "metadata": {},
     "output_type": "execute_result"
    }
   ],
   "source": [
    "calculate_accuracy(hotel_df, 'hotel-type', predict_hotel_type)[0]"
   ]
  },
  {
   "cell_type": "code",
   "execution_count": 18,
   "metadata": {},
   "outputs": [
    {
     "data": {
      "text/plain": [
       "0.9788688626476072"
      ]
     },
     "execution_count": 18,
     "metadata": {},
     "output_type": "execute_result"
    }
   ],
   "source": [
    "calculate_accuracy(hotel_df, 'hotel-internet', predict_hotel_internet)[0]"
   ]
  },
  {
   "cell_type": "code",
   "execution_count": 19,
   "metadata": {},
   "outputs": [
    {
     "data": {
      "text/plain": [
       "0.9770043505282784"
      ]
     },
     "execution_count": 19,
     "metadata": {},
     "output_type": "execute_result"
    }
   ],
   "source": [
    "calculate_accuracy(hotel_df, 'hotel-parking', predict_hotel_parking)[0]"
   ]
  },
  {
   "cell_type": "code",
   "execution_count": 20,
   "metadata": {},
   "outputs": [
    {
     "data": {
      "text/plain": [
       "0.9937849596022374"
      ]
     },
     "execution_count": 20,
     "metadata": {},
     "output_type": "execute_result"
    }
   ],
   "source": [
    "calculate_accuracy(hotel_df, 'hotel-stars', predict_hotel_star)[0]"
   ]
  },
  {
   "cell_type": "code",
   "execution_count": 21,
   "metadata": {},
   "outputs": [
    {
     "data": {
      "text/plain": [
       "0.9801118707271598"
      ]
     },
     "execution_count": 21,
     "metadata": {},
     "output_type": "execute_result"
    }
   ],
   "source": [
    "calculate_accuracy(hotel_df, 'hotel-area', predict_area)[0]"
   ]
  },
  {
   "cell_type": "code",
   "execution_count": 22,
   "metadata": {},
   "outputs": [
    {
     "data": {
      "text/plain": [
       "0.9721059972105998"
      ]
     },
     "execution_count": 22,
     "metadata": {},
     "output_type": "execute_result"
    }
   ],
   "source": [
    "calculate_accuracy(restaurant_df, 'restaurant-area', predict_area)[0]"
   ]
  },
  {
   "cell_type": "markdown",
   "metadata": {},
   "source": [
    "#### It turns out that hotel-type is not predictable with Regex. But hotel-stars, hotel-parking and hotel-internet work really well with Regex."
   ]
  },
  {
   "cell_type": "markdown",
   "metadata": {},
   "source": [
    "### Evaluation on Dev (hotel-parking, hotel-internet, hotel-stars)"
   ]
  },
  {
   "cell_type": "code",
   "execution_count": 23,
   "metadata": {},
   "outputs": [
    {
     "name": "stdout",
     "output_type": "stream",
     "text": [
      "hotel parking accuracy score:  0.9746192893401016\n",
      "hotel internet accuracy score:  0.9898477157360406\n",
      "hotel stars accuracy score:  1.0\n",
      "success!\n"
     ]
    }
   ],
   "source": [
    "dev_df = pd.read_csv('../data/dioData_dev.csv')\n",
    "dev_df = read_intent_pred_and_combine(dev_df, \"../predictions/1_dev_binary_intent_pred.txt\")\n",
    "\n",
    "# separate development set \n",
    "hotel_dev_df = dev_df[dev_df['intent'] == \"hotel\"]\n",
    "restaurant_dev_df = dev_df[dev_df['intent'] == \"restaurant\"]\n",
    "\n",
    "X_train = hotel_df['utts']\n",
    "X_dev = hotel_dev_df['utts']\n",
    "\n",
    "y_pred_hotel_parking = X_dev.map(predict_hotel_parking)\n",
    "y_pred_hotel_internet = X_dev.map(predict_hotel_internet)\n",
    "y_pred_hotel_stars = X_dev.map(predict_hotel_star)\n",
    "\n",
    "y_dev_hotel_parking = hotel_dev_df['hotel-parking'].replace(np.nan, 'dontknow')\n",
    "y_dev_hotel_internet = hotel_dev_df['hotel-internet'].replace(np.nan, 'dontknow')\n",
    "y_dev_hotel_stars = hotel_dev_df['hotel-stars']\n",
    "\n",
    "print(\"hotel parking accuracy score: \", accuracy_score(y_dev_hotel_parking, y_pred_hotel_parking))\n",
    "print(\"hotel internet accuracy score: \", accuracy_score(y_dev_hotel_internet, y_pred_hotel_internet))\n",
    "print(\"hotel stars accuracy score: \", accuracy_score(y_dev_hotel_stars.replace(np.nan, 6).apply(int), y_pred_hotel_stars.replace('dontknow', '6').apply(int)))\n",
    "\n",
    "dev_pred_df = pd.DataFrame(\n",
    "    {\n",
    "        \"utts\": X_dev,\n",
    "        \"hotel-internet\": y_pred_hotel_internet,\n",
    "        \"hotel-parking\": y_pred_hotel_parking,\n",
    "        \"hotel-stars\": y_pred_hotel_stars,\n",
    "    }\n",
    ")\n",
    "\n",
    "empty_dev = dev_df[[\"utts\"]]\n",
    "\n",
    "combined_dev = empty_dev.join(dev_pred_df, rsuffix=\"_hotel\").replace(\n",
    "    \"dontknow\", np.nan\n",
    ")\n",
    "\n",
    "combined_dev.pop('utts_hotel')\n",
    "assert len(combined_dev) == 413\n",
    "print(\"success!\")"
   ]
  },
  {
   "cell_type": "code",
   "execution_count": 24,
   "metadata": {},
   "outputs": [],
   "source": [
    "# store combined development set in a file\n",
    "combined_dev.to_csv('../predictions/dev_hotel_attr_pred.csv')"
   ]
  },
  {
   "cell_type": "markdown",
   "metadata": {},
   "source": [
    "### Evaluation on Dev data (on hotel-area and restaurant area)\n",
    "\n"
   ]
  },
  {
   "cell_type": "code",
   "execution_count": 25,
   "metadata": {},
   "outputs": [
    {
     "name": "stdout",
     "output_type": "stream",
     "text": [
      "Accuracy score for hotel area on dev data 0.9949238578680203\n",
      "Accuracy score for restaurant area on dev data 0.9629629629629629\n"
     ]
    }
   ],
   "source": [
    "hotel_score, dev_hotel_pred = calculate_accuracy(hotel_dev_df, 'hotel-area', predict_area)\n",
    "rest_score, dev_restaurant_pred = calculate_accuracy(restaurant_dev_df, 'restaurant-area', predict_area)\n",
    "\n",
    "print(\"Accuracy score for hotel area on dev data\", hotel_score)\n",
    "print(\"Accuracy score for restaurant area on dev data\", rest_score)"
   ]
  },
  {
   "cell_type": "code",
   "execution_count": 26,
   "metadata": {},
   "outputs": [],
   "source": [
    "dev_rest = dev_df[['utts']].join(dev_restaurant_pred, rsuffix = '_restaurant')\n",
    "combined_dev = dev_rest.join(dev_hotel_pred, rsuffix = '_hotel').replace('dontknow', np.nan)\n",
    "combined_dev = combined_dev.drop(columns = ['utts_restaurant', 'restaurant-area', 'hotel-area', 'utts_hotel'])\n",
    "\n",
    "# store in a separate file for calculating accuracy score\n",
    "combined_dev.to_csv('../predictions/dev_area_pred.csv')"
   ]
  },
  {
   "cell_type": "markdown",
   "metadata": {},
   "source": [
    "### Prediction on Test (hotel-internet, hotel-parking, hotel-stars)"
   ]
  },
  {
   "cell_type": "code",
   "execution_count": 27,
   "metadata": {},
   "outputs": [],
   "source": [
    "test_df = pd.read_csv('../data/dioData_test.csv')\n",
    "test_df = read_intent_pred_and_combine(test_df, \"../predictions/2_test_binary_intent_pred.txt\")\n",
    "\n",
    "hotel_test_df = test_df[test_df['intent'] == 'hotel']\n",
    "restaurant_test_df = test_df[test_df['intent'] == 'restaurant']"
   ]
  },
  {
   "cell_type": "code",
   "execution_count": 28,
   "metadata": {},
   "outputs": [],
   "source": [
    "hotel_test_df['hotel-stars'] = hotel_test_df['utts'].map(predict_hotel_star)\n",
    "hotel_test_df['hotel-internet'] = hotel_test_df['utts'].map(predict_hotel_internet)\n",
    "hotel_test_df['hotel-parking'] = hotel_test_df['utts'].map(predict_hotel_parking)\n",
    "\n",
    "combined_test = test_df[['utts']].join(hotel_test_df, rsuffix=\"_hotel\").replace(\n",
    "    \"dontknow\", np.nan\n",
    ")\n",
    "\n",
    "# store in a csv file\n",
    "combined_test[\n",
    "    [\"utts\", \"hotel-internet\", \"hotel-parking\", \"hotel-stars\"]\n",
    "].to_csv(\"../predictions/test_hotel_attr_pred.csv\")"
   ]
  },
  {
   "cell_type": "markdown",
   "metadata": {},
   "source": [
    "### Prediction on Test (hotel area, restaurant area)"
   ]
  },
  {
   "cell_type": "code",
   "execution_count": 29,
   "metadata": {},
   "outputs": [],
   "source": [
    "_, hotel_test = calculate_accuracy(hotel_test_df, 'hotel-area', predict_area)\n",
    "_, restaurant_test = calculate_accuracy(restaurant_test_df, 'restaurant-area', predict_area)\n",
    "\n",
    "test_rest = test_df[['utts']].join(restaurant_test, rsuffix = '_restaurant')\n",
    "combined_test = test_rest.join(hotel_test, rsuffix = '_hotel').replace('dontknow', np.nan)\n",
    "combined_test = combined_test[[\"utts\", \"pred-restaurant-area\", \"pred-hotel-area\"]]\n",
    "\n",
    "# store in a csv file\n",
    "combined_test.to_csv('../predictions/test_area_pred.csv')"
   ]
  }
 ],
 "metadata": {
  "kernelspec": {
   "display_name": "581",
   "language": "python",
   "name": "581"
  },
  "language_info": {
   "codemirror_mode": {
    "name": "ipython",
    "version": 3
   },
   "file_extension": ".py",
   "mimetype": "text/x-python",
   "name": "python",
   "nbconvert_exporter": "python",
   "pygments_lexer": "ipython3",
   "version": "3.7.9"
  }
 },
 "nbformat": 4,
 "nbformat_minor": 4
}
