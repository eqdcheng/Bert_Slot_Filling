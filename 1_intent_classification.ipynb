{
 "cells": [
  {
   "cell_type": "markdown",
   "metadata": {
    "id": "Mm28jiCQEQ67"
   },
   "source": [
    "## Intent Classification: Simple ML approach"
   ]
  },
  {
   "cell_type": "markdown",
   "metadata": {
    "id": "13UkN-a3yS_0"
   },
   "source": [
    "## Get Started"
   ]
  },
  {
   "cell_type": "code",
   "execution_count": 13,
   "metadata": {
    "id": "-d7j0kCHyZL6"
   },
   "outputs": [],
   "source": [
    "from sklearn.pipeline import Pipeline, make_pipeline\n",
    "from sklearn.feature_extraction.text import CountVectorizer\n",
    "from sklearn.svm import SVC\n",
    "from sklearn.dummy import DummyClassifier\n",
    "from sklearn.linear_model import LogisticRegression\n",
    "from sklearn.metrics import accuracy_score\n",
    "from sklearn.ensemble import RandomForestClassifier\n",
    "import pandas as pd\n",
    "import numpy as np"
   ]
  },
  {
   "cell_type": "markdown",
   "metadata": {
    "id": "ovpRtsS6E46c"
   },
   "source": [
    "## Load data"
   ]
  },
  {
   "cell_type": "code",
   "execution_count": 1,
   "metadata": {
    "id": "KmgOF0xXFc3Z"
   },
   "outputs": [],
   "source": [
    "multiwoz_path = \"../Multiwoz/\""
   ]
  },
  {
   "cell_type": "code",
   "execution_count": 2,
   "metadata": {
    "id": "hfJEsx_BFRdA"
   },
   "outputs": [],
   "source": [
    "def load_data(file_name):\n",
    "  '''Given file name, read the file and return a list of lines'''\n",
    "  with open(multiwoz_path+file_name, \"r\", encoding=\"utf-8\") as f:\n",
    "    data = f.read().splitlines()\n",
    "\n",
    "  return data"
   ]
  },
  {
   "cell_type": "code",
   "execution_count": 3,
   "metadata": {
    "id": "mg_60pfxE2-a"
   },
   "outputs": [],
   "source": [
    "X_train = load_data(\"WOZ_train_utt.txt\")\n",
    "y_train = load_data(\"WOZ_train_ans.txt\")\n",
    "X_dev = load_data(\"WOZ_dev_utt.txt\")\n",
    "y_dev = load_data(\"WOZ_dev_ans.txt\")\n",
    "X_test = load_data(\"WOZ_test_utt.txt\")"
   ]
  },
  {
   "cell_type": "code",
   "execution_count": 4,
   "metadata": {
    "colab": {
     "base_uri": "https://localhost:8080/"
    },
    "id": "KPz-v0i5FDUp",
    "outputId": "209fa14a-87dd-4a14-c911-fd1f5d24e37a"
   },
   "outputs": [
    {
     "data": {
      "text/plain": [
       "['Guten Tag, I am staying overnight in Cambridge and need a place to sleep. I need free parking and internet.',\n",
       " 'Hi there! Can you give me some info on Cityroomz?',\n",
       " 'I am looking for a hotel named alyesbray lodge guest house.',\n",
       " 'I am looking for a restaurant. I would like something cheap that has Chinese food.',\n",
       " \"I'm looking for an expensive restaurant in the centre if you could help me.\"]"
      ]
     },
     "execution_count": 4,
     "metadata": {},
     "output_type": "execute_result"
    }
   ],
   "source": [
    "X_train[:5]"
   ]
  },
  {
   "cell_type": "code",
   "execution_count": 5,
   "metadata": {
    "colab": {
     "base_uri": "https://localhost:8080/"
    },
    "id": "RC3tpNcvFNQp",
    "outputId": "e518a18a-57e6-49c3-872e-2fcfeee19627"
   },
   "outputs": [
    {
     "data": {
      "text/plain": [
       "['find_hotel|hotel-area=centre|hotel-internet=yes|hotel-parking=yes',\n",
       " 'find_hotel|hotel-name=cityroomz',\n",
       " 'find_hotel|hotel-name=alyesbray lodge guest house',\n",
       " 'find_restaurant|restaurant-food=chinese|restaurant-pricerange=cheap',\n",
       " 'find_restaurant|restaurant-area=centre|restaurant-pricerange=expensive']"
      ]
     },
     "execution_count": 5,
     "metadata": {},
     "output_type": "execute_result"
    }
   ],
   "source": [
    "y_train[:5]"
   ]
  },
  {
   "cell_type": "markdown",
   "metadata": {
    "id": "yTejUz_GGACN"
   },
   "source": [
    "## Construct dataset for binary classification"
   ]
  },
  {
   "cell_type": "code",
   "execution_count": 6,
   "metadata": {
    "id": "lNLV_1bMywNF"
   },
   "outputs": [],
   "source": [
    "def prepare_for_binary_classification(X, y):\n",
    "  '''Split tags in y, pick only the first tag and remove `find_`'''\n",
    "  y_binary = [answer.split(\"|\")[0].split(\"_\")[-1] for answer in y]\n",
    "\n",
    "  return X, y_binary"
   ]
  },
  {
   "cell_type": "code",
   "execution_count": 7,
   "metadata": {
    "id": "4D_xjjGOz2T4"
   },
   "outputs": [],
   "source": [
    "X_binary_train, y_binary_train = prepare_for_binary_classification(X_train, y_train)\n",
    "X_binary_dev, y_binary_dev = prepare_for_binary_classification(X_dev, y_dev)\n",
    "X_binary_test = X_test"
   ]
  },
  {
   "cell_type": "code",
   "execution_count": 8,
   "metadata": {
    "colab": {
     "base_uri": "https://localhost:8080/"
    },
    "id": "2XjhgEh_GOl-",
    "outputId": "f11c6a5f-b6a6-44a2-c4b0-3cf26a586a94"
   },
   "outputs": [
    {
     "data": {
      "text/plain": [
       "['hotel', 'hotel', 'hotel', 'restaurant', 'restaurant']"
      ]
     },
     "execution_count": 8,
     "metadata": {},
     "output_type": "execute_result"
    }
   ],
   "source": [
    "y_binary_train[:5]"
   ]
  },
  {
   "cell_type": "markdown",
   "metadata": {
    "id": "lLozGbPW0DHQ"
   },
   "source": [
    "## Baseline Score"
   ]
  },
  {
   "cell_type": "code",
   "execution_count": 9,
   "metadata": {
    "id": "I9vCULE80KOL"
   },
   "outputs": [],
   "source": [
    "def fit_transform_and_predict(X_train, y_train, X_dev, vec, cls):\n",
    "  '''\n",
    "  Generate predictions based on the arguments.\n",
    "  X_train (list) : train data\n",
    "  y_train (list) : train tags\n",
    "  X_dev (list) : development (or test) data to be predicted\n",
    "  vec : vectorizer\n",
    "  cls : classifier\n",
    "  '''\n",
    "  # vectorize\n",
    "  X_train_enc = vec.fit_transform(X_train, y_train)\n",
    "  X_dev_enc = vec.transform(X_dev)\n",
    "\n",
    "  # train\n",
    "  cls.fit(X_train_enc, y_train)\n",
    "\n",
    "  # predict\n",
    "  preds = cls.predict(X_dev_enc)\n",
    "\n",
    "  return preds"
   ]
  },
  {
   "cell_type": "code",
   "execution_count": 14,
   "metadata": {
    "id": "EbLuzK1f2pnh"
   },
   "outputs": [],
   "source": [
    "cls = DummyClassifier(strategy=\"most_frequent\")\n",
    "vec = CountVectorizer()"
   ]
  },
  {
   "cell_type": "code",
   "execution_count": 15,
   "metadata": {
    "id": "jsNhPdvm2s9w"
   },
   "outputs": [],
   "source": [
    "dev_pred = fit_transform_and_predict(X_binary_train, y_binary_train, X_binary_dev, vec, cls)"
   ]
  },
  {
   "cell_type": "code",
   "execution_count": 16,
   "metadata": {
    "colab": {
     "base_uri": "https://localhost:8080/"
    },
    "id": "r2S89UXO3JN0",
    "outputId": "1ea95580-38df-4efe-94c6-aae9074c26a0"
   },
   "outputs": [
    {
     "name": "stdout",
     "output_type": "stream",
     "text": [
      "dev acc (Dummy):  0.5254237288135594\n"
     ]
    }
   ],
   "source": [
    "print(\"dev acc (Dummy): \", accuracy_score(y_binary_dev, dev_pred))"
   ]
  },
  {
   "cell_type": "markdown",
   "metadata": {
    "id": "fhPr8yuZ63eG"
   },
   "source": [
    "## Try different ML systems: SVC, Logistic Regression, and Random Forest"
   ]
  },
  {
   "cell_type": "code",
   "execution_count": 17,
   "metadata": {
    "colab": {
     "base_uri": "https://localhost:8080/"
    },
    "id": "lo0dKL2B5Irl",
    "outputId": "090dcc40-f231-44c9-ce53-6b7a00ca5911"
   },
   "outputs": [
    {
     "name": "stdout",
     "output_type": "stream",
     "text": [
      "dev acc (SVC):  0.9830508474576272\n"
     ]
    }
   ],
   "source": [
    "# svc\n",
    "svc = SVC()\n",
    "dev_svc_pred = fit_transform_and_predict(X_binary_train, y_binary_train, X_binary_dev, vec, svc)\n",
    "print(\"dev acc (SVC): \", accuracy_score(y_binary_dev, dev_svc_pred))"
   ]
  },
  {
   "cell_type": "code",
   "execution_count": 18,
   "metadata": {
    "colab": {
     "base_uri": "https://localhost:8080/"
    },
    "id": "tuUYSJwk7lkd",
    "outputId": "21425069-c294-4edb-8d93-8edfad8b9ecf"
   },
   "outputs": [
    {
     "name": "stdout",
     "output_type": "stream",
     "text": [
      "dev acc (lr):  0.9951573849878934\n"
     ]
    }
   ],
   "source": [
    "# lr\n",
    "vec = CountVectorizer(ngram_range = (1, 1), \n",
    "                                        lowercase = True,\n",
    "                                        stop_words = 'english')\n",
    "lr = LogisticRegression()\n",
    "dev_lr_pred = fit_transform_and_predict(X_binary_train, y_binary_train, X_binary_dev, vec, lr)\n",
    "print(\"dev acc (lr): \", accuracy_score(y_binary_dev, dev_lr_pred))"
   ]
  },
  {
   "cell_type": "code",
   "execution_count": 19,
   "metadata": {
    "colab": {
     "base_uri": "https://localhost:8080/"
    },
    "id": "Ia5B67UJ70AJ",
    "outputId": "c9080bdd-9e2a-4b25-fae9-c4ff6ab62fde"
   },
   "outputs": [
    {
     "name": "stdout",
     "output_type": "stream",
     "text": [
      "dev acc (rf):  0.9951573849878934\n"
     ]
    }
   ],
   "source": [
    "# random forest\n",
    "\n",
    "vec = CountVectorizer(ngram_range = (1, 2), \n",
    "                                        lowercase = True, \n",
    "                                        stop_words = 'english')\n",
    "rf = RandomForestClassifier()\n",
    "dev_rf_pred = fit_transform_and_predict(X_binary_train, y_binary_train, X_binary_dev, vec, rf)\n",
    "print(\"dev acc (rf): \", accuracy_score(y_binary_dev, dev_lr_pred))"
   ]
  },
  {
   "cell_type": "markdown",
   "metadata": {
    "id": "HqUWFCK_8N-S"
   },
   "source": [
    "We chose `random forest classifier` for this task."
   ]
  },
  {
   "cell_type": "markdown",
   "metadata": {
    "id": "5HgGr4-h8avj"
   },
   "source": [
    "## Generate binary intent predictions for the development set and the test set"
   ]
  },
  {
   "cell_type": "code",
   "execution_count": 22,
   "metadata": {
    "id": "kro7xbXv8gvE"
   },
   "outputs": [],
   "source": [
    "train_rf_pred = fit_transform_and_predict(X_binary_train, y_binary_train, X_binary_train, vec, rf)\n",
    "dev_rf_pred = fit_transform_and_predict(X_binary_train, y_binary_train, X_binary_dev, vec, rf)\n",
    "test_rf_pred = fit_transform_and_predict(X_binary_train, y_binary_train, X_binary_test, vec, rf)"
   ]
  },
  {
   "cell_type": "code",
   "execution_count": 23,
   "metadata": {
    "colab": {
     "base_uri": "https://localhost:8080/"
    },
    "id": "5FbR9g7P8ZF4",
    "outputId": "48ca4906-5296-4949-fb2b-0b6b4b9aa5e1"
   },
   "outputs": [
    {
     "name": "stdout",
     "output_type": "stream",
     "text": [
      "Success!\n"
     ]
    }
   ],
   "source": [
    "assert len(dev_rf_pred) == 413\n",
    "assert len(test_rf_pred) == 400\n",
    "print(\"Success!\")"
   ]
  },
  {
   "cell_type": "code",
   "execution_count": 24,
   "metadata": {},
   "outputs": [],
   "source": [
    "with open(\"../predictions/0_train_binary_intent_pred.txt\", \"w\", encoding=\"utf-8\") as fout:\n",
    "  for pred in train_rf_pred:\n",
    "    fout.write(pred+\"\\n\")"
   ]
  },
  {
   "cell_type": "code",
   "execution_count": 25,
   "metadata": {
    "id": "fHhUa9X0UjE_"
   },
   "outputs": [],
   "source": [
    "with open(\"../predictions/1_dev_binary_intent_pred.txt\", \"w\", encoding=\"utf-8\") as fout:\n",
    "  for pred in dev_rf_pred:\n",
    "    fout.write(pred+\"\\n\")"
   ]
  },
  {
   "cell_type": "code",
   "execution_count": 26,
   "metadata": {
    "id": "5upR4Ij28t2R"
   },
   "outputs": [],
   "source": [
    "with open(\"../predictions/2_test_binary_intent_pred.txt\", \"w\", encoding=\"utf-8\") as fout:\n",
    "  for pred in test_rf_pred:\n",
    "    fout.write(pred+\"\\n\")"
   ]
  },
  {
   "cell_type": "markdown",
   "metadata": {
    "id": "WF6GYs3v821P"
   },
   "source": [
    "## Inspect weights of each feature"
   ]
  },
  {
   "cell_type": "code",
   "execution_count": 27,
   "metadata": {
    "colab": {
     "base_uri": "https://localhost:8080/"
    },
    "id": "zYcblzh585hu",
    "outputId": "39d78cfd-f823-44f0-9d87-f8766746ff37"
   },
   "outputs": [
    {
     "data": {
      "text/plain": [
       "0.9951573849878934"
      ]
     },
     "execution_count": 27,
     "metadata": {},
     "output_type": "execute_result"
    }
   ],
   "source": [
    "pipe_lr = make_pipeline(\n",
    "    CountVectorizer(ngram_range = (1, 1), \n",
    "                                        lowercase = True,\n",
    "                                        stop_words = 'english'),\n",
    "    LogisticRegression()\n",
    ")\n",
    "\n",
    "pipe_lr.fit(X_binary_train, y_binary_train)\n",
    "pipe_lr.score(X_binary_dev, y_binary_dev)"
   ]
  },
  {
   "cell_type": "code",
   "execution_count": 28,
   "metadata": {
    "id": "8orXCM6uoTtJ"
   },
   "outputs": [],
   "source": [
    "weights = pipe_lr.named_steps['logisticregression'].coef_.flatten()\n",
    "vocab = pipe_lr.named_steps['countvectorizer'].get_feature_names()\n",
    "data={'features':vocab[-500:-480], 'coefficient':weights[-500:-480]}\n",
    "inds = np.argsort(pipe_lr.named_steps['logisticregression'].coef_.flatten())"
   ]
  },
  {
   "cell_type": "code",
   "execution_count": 29,
   "metadata": {
    "colab": {
     "base_uri": "https://localhost:8080/"
    },
    "id": "uN9tnQxNmPL_",
    "outputId": "da596f75-545d-4f46-86fb-b5221a322880"
   },
   "outputs": [
    {
     "data": {
      "text/plain": [
       "array(['hotel', 'restaurant'], dtype='<U10')"
      ]
     },
     "execution_count": 29,
     "metadata": {},
     "output_type": "execute_result"
    }
   ],
   "source": [
    "pipe_lr.classes_"
   ]
  },
  {
   "cell_type": "code",
   "execution_count": 30,
   "metadata": {
    "colab": {
     "base_uri": "https://localhost:8080/",
     "height": 669
    },
    "id": "cmDYr6thoQdr",
    "outputId": "1fc08a5e-9783-4fb5-986d-366ff2f101c9"
   },
   "outputs": [
    {
     "data": {
      "text/html": [
       "<div>\n",
       "<style scoped>\n",
       "    .dataframe tbody tr th:only-of-type {\n",
       "        vertical-align: middle;\n",
       "    }\n",
       "\n",
       "    .dataframe tbody tr th {\n",
       "        vertical-align: top;\n",
       "    }\n",
       "\n",
       "    .dataframe thead th {\n",
       "        text-align: right;\n",
       "    }\n",
       "</style>\n",
       "<table border=\"1\" class=\"dataframe\">\n",
       "  <thead>\n",
       "    <tr style=\"text-align: right;\">\n",
       "      <th></th>\n",
       "      <th>hotel feats</th>\n",
       "      <th>hotel weights</th>\n",
       "      <th>restaurants feats</th>\n",
       "      <th>restaurants weights</th>\n",
       "    </tr>\n",
       "  </thead>\n",
       "  <tbody>\n",
       "    <tr>\n",
       "      <th>0</th>\n",
       "      <td>stay</td>\n",
       "      <td>-4.742314</td>\n",
       "      <td>italian</td>\n",
       "      <td>0.609503</td>\n",
       "    </tr>\n",
       "    <tr>\n",
       "      <th>1</th>\n",
       "      <td>hotel</td>\n",
       "      <td>-4.289174</td>\n",
       "      <td>called</td>\n",
       "      <td>0.615395</td>\n",
       "    </tr>\n",
       "    <tr>\n",
       "      <th>2</th>\n",
       "      <td>guesthouse</td>\n",
       "      <td>-3.356822</td>\n",
       "      <td>centre</td>\n",
       "      <td>0.618140</td>\n",
       "    </tr>\n",
       "    <tr>\n",
       "      <th>3</th>\n",
       "      <td>hotels</td>\n",
       "      <td>-2.094708</td>\n",
       "      <td>european</td>\n",
       "      <td>0.626479</td>\n",
       "    </tr>\n",
       "    <tr>\n",
       "      <th>4</th>\n",
       "      <td>star</td>\n",
       "      <td>-1.813542</td>\n",
       "      <td>india</td>\n",
       "      <td>0.627966</td>\n",
       "    </tr>\n",
       "    <tr>\n",
       "      <th>5</th>\n",
       "      <td>room</td>\n",
       "      <td>-1.761517</td>\n",
       "      <td>serves</td>\n",
       "      <td>0.691380</td>\n",
       "    </tr>\n",
       "    <tr>\n",
       "      <th>6</th>\n",
       "      <td>free</td>\n",
       "      <td>-1.686805</td>\n",
       "      <td>chinese</td>\n",
       "      <td>0.761186</td>\n",
       "    </tr>\n",
       "    <tr>\n",
       "      <th>7</th>\n",
       "      <td>guest</td>\n",
       "      <td>-1.581669</td>\n",
       "      <td>place</td>\n",
       "      <td>0.775645</td>\n",
       "    </tr>\n",
       "    <tr>\n",
       "      <th>8</th>\n",
       "      <td>guesthouses</td>\n",
       "      <td>-1.397516</td>\n",
       "      <td>expensive</td>\n",
       "      <td>0.806414</td>\n",
       "    </tr>\n",
       "    <tr>\n",
       "      <th>9</th>\n",
       "      <td>lodgings</td>\n",
       "      <td>-1.347547</td>\n",
       "      <td>indian</td>\n",
       "      <td>0.807875</td>\n",
       "    </tr>\n",
       "    <tr>\n",
       "      <th>10</th>\n",
       "      <td>house</td>\n",
       "      <td>-1.322265</td>\n",
       "      <td>cafe</td>\n",
       "      <td>0.818672</td>\n",
       "    </tr>\n",
       "    <tr>\n",
       "      <th>11</th>\n",
       "      <td>wifi</td>\n",
       "      <td>-1.290531</td>\n",
       "      <td>chop</td>\n",
       "      <td>0.846772</td>\n",
       "    </tr>\n",
       "    <tr>\n",
       "      <th>12</th>\n",
       "      <td>breakfast</td>\n",
       "      <td>-1.160690</td>\n",
       "      <td>gastropub</td>\n",
       "      <td>0.849321</td>\n",
       "    </tr>\n",
       "    <tr>\n",
       "      <th>13</th>\n",
       "      <td>bed</td>\n",
       "      <td>-1.160690</td>\n",
       "      <td>bar</td>\n",
       "      <td>0.917505</td>\n",
       "    </tr>\n",
       "    <tr>\n",
       "      <th>14</th>\n",
       "      <td>parking</td>\n",
       "      <td>-1.137539</td>\n",
       "      <td>pizza</td>\n",
       "      <td>1.047061</td>\n",
       "    </tr>\n",
       "    <tr>\n",
       "      <th>15</th>\n",
       "      <td>cityroomz</td>\n",
       "      <td>-1.066574</td>\n",
       "      <td>dine</td>\n",
       "      <td>2.142493</td>\n",
       "    </tr>\n",
       "    <tr>\n",
       "      <th>16</th>\n",
       "      <td>lodge</td>\n",
       "      <td>-1.057051</td>\n",
       "      <td>restaurants</td>\n",
       "      <td>2.190214</td>\n",
       "    </tr>\n",
       "    <tr>\n",
       "      <th>17</th>\n",
       "      <td>night</td>\n",
       "      <td>-0.830834</td>\n",
       "      <td>eat</td>\n",
       "      <td>2.345830</td>\n",
       "    </tr>\n",
       "    <tr>\n",
       "      <th>18</th>\n",
       "      <td>rooms</td>\n",
       "      <td>-0.782610</td>\n",
       "      <td>food</td>\n",
       "      <td>2.697727</td>\n",
       "    </tr>\n",
       "    <tr>\n",
       "      <th>19</th>\n",
       "      <td>belfry</td>\n",
       "      <td>-0.726947</td>\n",
       "      <td>restaurant</td>\n",
       "      <td>4.692293</td>\n",
       "    </tr>\n",
       "  </tbody>\n",
       "</table>\n",
       "</div>"
      ],
      "text/plain": [
       "    hotel feats  hotel weights restaurants feats  restaurants weights\n",
       "0          stay      -4.742314           italian             0.609503\n",
       "1         hotel      -4.289174            called             0.615395\n",
       "2    guesthouse      -3.356822            centre             0.618140\n",
       "3        hotels      -2.094708          european             0.626479\n",
       "4          star      -1.813542             india             0.627966\n",
       "5          room      -1.761517            serves             0.691380\n",
       "6          free      -1.686805           chinese             0.761186\n",
       "7         guest      -1.581669             place             0.775645\n",
       "8   guesthouses      -1.397516         expensive             0.806414\n",
       "9      lodgings      -1.347547            indian             0.807875\n",
       "10        house      -1.322265              cafe             0.818672\n",
       "11         wifi      -1.290531              chop             0.846772\n",
       "12    breakfast      -1.160690         gastropub             0.849321\n",
       "13          bed      -1.160690               bar             0.917505\n",
       "14      parking      -1.137539             pizza             1.047061\n",
       "15    cityroomz      -1.066574              dine             2.142493\n",
       "16        lodge      -1.057051       restaurants             2.190214\n",
       "17        night      -0.830834               eat             2.345830\n",
       "18        rooms      -0.782610              food             2.697727\n",
       "19       belfry      -0.726947        restaurant             4.692293"
      ]
     },
     "execution_count": 30,
     "metadata": {},
     "output_type": "execute_result"
    }
   ],
   "source": [
    "hotal_words = [vocab[index] for index in inds[:20]]\n",
    "restaurants_words = [vocab[index] for index in inds[-20:]]\n",
    "hotel_words_weights = [(weights[index]) for index in inds[:20]]\n",
    "restaurants_words_weights = [(weights[index]) for index in inds[-20:]]\n",
    "pd.DataFrame(\n",
    "    {\n",
    "        \"hotel feats\": hotal_words, \"hotel weights\": hotel_words_weights,\n",
    "        \"restaurants feats\": restaurants_words,\"restaurants weights\": restaurants_words_weights,\n",
    "    })"
   ]
  },
  {
   "cell_type": "code",
   "execution_count": null,
   "metadata": {
    "id": "eGf5qWi5TWI-"
   },
   "outputs": [],
   "source": []
  }
 ],
 "metadata": {
  "colab": {
   "name": "intent_classification.ipynb",
   "provenance": []
  },
  "kernelspec": {
   "display_name": "Python 3",
   "language": "python",
   "name": "python3"
  },
  "language_info": {
   "codemirror_mode": {
    "name": "ipython",
    "version": 3
   },
   "file_extension": ".py",
   "mimetype": "text/x-python",
   "name": "python",
   "nbconvert_exporter": "python",
   "pygments_lexer": "ipython3",
   "version": "3.8.3"
  }
 },
 "nbformat": 4,
 "nbformat_minor": 4
}
