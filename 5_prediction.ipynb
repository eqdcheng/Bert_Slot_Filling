{
 "cells": [
  {
   "cell_type": "markdown",
   "metadata": {},
   "source": [
    "## Predictions\n",
    "- This notebook combines all generated predictions and generate the final predictions.\n",
    "\n",
    "> **NOTE** Before run this code, make sure there is no `dev_all_pred.txt` and `test_all_pred.txt` in the `predictions` folder."
   ]
  },
  {
   "cell_type": "code",
   "execution_count": 1,
   "metadata": {},
   "outputs": [],
   "source": [
    "import numpy as np\n",
    "import pandas as pd\n",
    "from sklearn.metrics import accuracy_score"
   ]
  },
  {
   "cell_type": "code",
   "execution_count": 2,
   "metadata": {},
   "outputs": [],
   "source": [
    "def combine_df(left_df, right_df, lsuffix=None):\n",
    "    '''combine the left and right dataframe in a single dataframe'''\n",
    "    combined_df = left_df.join(right_df, on='index', lsuffix=lsuffix)\n",
    "    drop_columns = [f\"index{lsuffix}\", f\"utts{lsuffix}\"]\n",
    "    combined_df = combined_df.drop(columns=drop_columns)\n",
    "    return combined_df"
   ]
  },
  {
   "cell_type": "code",
   "execution_count": 3,
   "metadata": {},
   "outputs": [],
   "source": [
    "dev_attr_pred = '../predictions/dev_hotel_attr_pred.csv'\n",
    "dev_BERT_pred = '../predictions/dev_BERT_pred.csv'\n",
    "dev_area_pred = '../predictions/dev_area_pred.csv'\n",
    "dev_type_pred = '../predictions/dev_hotel_type_pred.csv'\n",
    "dev_price_pred = '../predictions/dev_price_pred.csv'"
   ]
  },
  {
   "cell_type": "code",
   "execution_count": 4,
   "metadata": {},
   "outputs": [],
   "source": [
    "def combine_all_predictions(attr_pred, BERT_pred, area_pred, type_pred, price_pred):\n",
    "    '''\n",
    "    Combine all predictions in a single dataframe.\n",
    "    attr_pred -- a file path to hotel attribute prediction file\n",
    "    BERT_pred -- a file path to BERT slot filling prediction file\n",
    "    area_pred -- a file path to area prediction file\n",
    "    type_pred -- a file path to hotel type prediction file\n",
    "    price_pred -- a file path to prigerange prediction file\n",
    "    combined_df (out) -- a dataframe which combined all predictions\n",
    "    '''\n",
    "    \n",
    "    # rule-based hotel attributes\n",
    "    hotel_df = pd.read_csv(attr_pred, index_col=0)\n",
    "    hotel_df = hotel_df.reset_index()\n",
    "\n",
    "    # slot filling BERT predictions\n",
    "    slot_df = pd.read_csv(BERT_pred)\n",
    "\n",
    "    # area predictions & renmae the dataframe\n",
    "    area_df = pd.read_csv(area_pred, index_col=0)[['utts', 'pred-restaurant-area', 'pred-hotel-area']]\n",
    "    area_df = area_df.reset_index()\n",
    "    area_df = area_df.rename(\n",
    "        columns={\"pred-restaurant-area\": \"restaurant-area\", \"pred-hotel-area\": \"hotel-area\"}\n",
    "    )\n",
    "\n",
    "    # hotel type predictions\n",
    "    hotel_type_df = pd.read_csv(type_pred, index_col=0)\n",
    "    hotel_type_df = hotel_type_df.reset_index()\n",
    "\n",
    "    # price predictions\n",
    "    price_df = pd.read_csv(price_pred, index_col=0)\n",
    "    price_df = price_df.reset_index()\n",
    "\n",
    "    # combine every separate dfs\n",
    "    combined_df = combine_df(hotel_df, slot_df, lsuffix='_hotel')\n",
    "    combined_df = combine_df(combined_df, area_df, lsuffix='_combined')\n",
    "    combined_df = combine_df(combined_df, hotel_type_df, lsuffix='_combined')\n",
    "    combined_df = combine_df(combined_df, price_df, lsuffix='_combined')\n",
    "    combined_df = combined_df.drop(columns=['index', 'utts'])\n",
    "    combined_df.info()\n",
    "    \n",
    "    return combined_df"
   ]
  },
  {
   "cell_type": "code",
   "execution_count": 5,
   "metadata": {},
   "outputs": [
    {
     "name": "stdout",
     "output_type": "stream",
     "text": [
      "<class 'pandas.core.frame.DataFrame'>\n",
      "RangeIndex: 413 entries, 0 to 412\n",
      "Data columns (total 11 columns):\n",
      " #   Column                 Non-Null Count  Dtype  \n",
      "---  ------                 --------------  -----  \n",
      " 0   hotel-internet         43 non-null     object \n",
      " 1   hotel-parking          42 non-null     object \n",
      " 2   hotel-stars            34 non-null     float64\n",
      " 3   hotel-name             52 non-null     object \n",
      " 4   restaurant-food        103 non-null    object \n",
      " 5   restaurant-name        46 non-null     object \n",
      " 6   restaurant-area        83 non-null     object \n",
      " 7   hotel-area             36 non-null     object \n",
      " 8   hotel-type             33 non-null     object \n",
      " 9   hotel-pricerange       37 non-null     object \n",
      " 10  restaurant-pricerange  84 non-null     object \n",
      "dtypes: float64(1), object(10)\n",
      "memory usage: 35.6+ KB\n"
     ]
    }
   ],
   "source": [
    "dev_combined_df = combine_all_predictions(dev_attr_pred, dev_BERT_pred, dev_area_pred, dev_type_pred, dev_price_pred)"
   ]
  },
  {
   "cell_type": "code",
   "execution_count": 6,
   "metadata": {},
   "outputs": [],
   "source": [
    "with open('../predictions/1_dev_binary_intent_pred.txt') as f:\n",
    "    intents = f.readlines()\n",
    "intents = [intent.strip() for intent in intents]"
   ]
  },
  {
   "cell_type": "code",
   "execution_count": 7,
   "metadata": {},
   "outputs": [],
   "source": [
    "def write_to_ans_format(df, intents, out_file):\n",
    "    '''\n",
    "    this function converts dataframe into expected answer format.\n",
    "    df - combined dataframe to be used for generating answers\n",
    "    intents -- a list of intention prediction\n",
    "    out_file -- the name of the file to store output answers\n",
    "    '''\n",
    "    for (_, row), intent in zip(df.iterrows(), intents):\n",
    "        line = \"\"\n",
    "        if intent == 'restaurant':\n",
    "            line += \"find_restaurant\"\n",
    "        elif intent == 'hotel':\n",
    "            line += 'find_hotel'\n",
    "        new_attr = {}\n",
    "        for attr, val in row.items():\n",
    "            if str(val) != 'nan':\n",
    "                if attr == 'hotel-stars':\n",
    "                    val = int(val)\n",
    "                new_attr[attr] = val\n",
    "            \n",
    "        # sort dict in alphabetical order\n",
    "        new_attr = {key: value for key, value in sorted(new_attr.items(), key=lambda item: item[0])}\n",
    "        for k, v in new_attr.items():\n",
    "            line += f'|{k}={v}'\n",
    "        with open(out_file, 'a') as fout:\n",
    "            fout.write(line+'\\n')"
   ]
  },
  {
   "cell_type": "code",
   "execution_count": 8,
   "metadata": {
    "scrolled": true
   },
   "outputs": [],
   "source": [
    "write_to_ans_format(dev_combined_df, intents, '../predictions/dev_all_pred.txt')"
   ]
  },
  {
   "cell_type": "markdown",
   "metadata": {},
   "source": [
    "## Calculate development accuracy score"
   ]
  },
  {
   "cell_type": "code",
   "execution_count": 9,
   "metadata": {
    "scrolled": true
   },
   "outputs": [],
   "source": [
    "with open(\"../predictions/dev_all_pred.txt\") as f:\n",
    "    dev_predictions = [answer.strip() for answer in f.readlines()]  "
   ]
  },
  {
   "cell_type": "code",
   "execution_count": 10,
   "metadata": {
    "scrolled": true
   },
   "outputs": [
    {
     "name": "stdout",
     "output_type": "stream",
     "text": [
      "Success!\n"
     ]
    }
   ],
   "source": [
    "woz_directory = 'Multiwoz/'\n",
    "# code above should create dev_predictions\n",
    "with open(\"../\" + woz_directory + \"WOZ_dev_ans.txt\") as f:\n",
    "    dev_correct = [answer.strip() for answer in f.readlines()]    \n",
    "assert accuracy_score(dev_predictions, dev_correct) > 0.7\n",
    "print(\"Success!\")"
   ]
  },
  {
   "cell_type": "code",
   "execution_count": 11,
   "metadata": {},
   "outputs": [
    {
     "data": {
      "text/plain": [
       "0.8450363196125908"
      ]
     },
     "execution_count": 11,
     "metadata": {},
     "output_type": "execute_result"
    }
   ],
   "source": [
    "accuracy_score(dev_predictions, dev_correct)"
   ]
  },
  {
   "cell_type": "markdown",
   "metadata": {},
   "source": [
    "## Prediction on test set"
   ]
  },
  {
   "cell_type": "code",
   "execution_count": 12,
   "metadata": {},
   "outputs": [],
   "source": [
    "test_attr_pred = '../predictions/test_hotel_attr_pred.csv'\n",
    "test_BERT_pred = '../predictions/test_BERT_pred.csv'\n",
    "test_area_pred = '../predictions/test_area_pred.csv'\n",
    "test_type_pred = '../predictions/test_hotel_type_pred.csv'\n",
    "test_price_pred = '../predictions/test_price_pred.csv'"
   ]
  },
  {
   "cell_type": "code",
   "execution_count": 13,
   "metadata": {},
   "outputs": [
    {
     "name": "stdout",
     "output_type": "stream",
     "text": [
      "<class 'pandas.core.frame.DataFrame'>\n",
      "RangeIndex: 400 entries, 0 to 399\n",
      "Data columns (total 11 columns):\n",
      " #   Column                 Non-Null Count  Dtype  \n",
      "---  ------                 --------------  -----  \n",
      " 0   hotel-internet         35 non-null     object \n",
      " 1   hotel-parking          34 non-null     object \n",
      " 2   hotel-stars            38 non-null     float64\n",
      " 3   hotel-name             42 non-null     object \n",
      " 4   restaurant-food        106 non-null    object \n",
      " 5   restaurant-name        35 non-null     object \n",
      " 6   restaurant-area        102 non-null    object \n",
      " 7   hotel-area             35 non-null     object \n",
      " 8   hotel-type             27 non-null     object \n",
      " 9   hotel-pricerange       38 non-null     object \n",
      " 10  restaurant-pricerange  86 non-null     object \n",
      "dtypes: float64(1), object(10)\n",
      "memory usage: 34.5+ KB\n"
     ]
    }
   ],
   "source": [
    "test_combined_df = combine_all_predictions(test_attr_pred, test_BERT_pred, test_area_pred, test_type_pred, test_price_pred)"
   ]
  },
  {
   "cell_type": "code",
   "execution_count": 14,
   "metadata": {},
   "outputs": [],
   "source": [
    "with open('../predictions/2_test_binary_intent_pred.txt') as f:\n",
    "    test_intents = f.readlines()\n",
    "test_intents = [intent.strip() for intent in test_intents]"
   ]
  },
  {
   "cell_type": "code",
   "execution_count": 15,
   "metadata": {
    "scrolled": true
   },
   "outputs": [],
   "source": [
    "write_to_ans_format(test_combined_df, test_intents, '../predictions/test_all_pred.txt')"
   ]
  },
  {
   "cell_type": "markdown",
   "metadata": {},
   "source": [
    "#### Output the test_all_pred in a kaggle csv format"
   ]
  },
  {
   "cell_type": "code",
   "execution_count": 16,
   "metadata": {
    "scrolled": true
   },
   "outputs": [],
   "source": [
    "with open(\"../predictions/test_all_pred.txt\") as f:\n",
    "    test_predictions = [answer.strip() for answer in f.readlines()]  "
   ]
  },
  {
   "cell_type": "code",
   "execution_count": 17,
   "metadata": {},
   "outputs": [],
   "source": [
    "header = 'ID,Expected\\n'\n",
    "with open(\"../kaggle_answers.csv\", \"w\", encoding=\"utf-8\") as fout:\n",
    "    fout.write(header)\n",
    "    for line_num, answer in enumerate(test_predictions):\n",
    "        fout.write(f'{line_num},\"{answer}\"\\n')"
   ]
  },
  {
   "cell_type": "code",
   "execution_count": null,
   "metadata": {},
   "outputs": [],
   "source": []
  }
 ],
 "metadata": {
  "kernelspec": {
   "display_name": "Python 3",
   "language": "python",
   "name": "python3"
  },
  "language_info": {
   "codemirror_mode": {
    "name": "ipython",
    "version": 3
   },
   "file_extension": ".py",
   "mimetype": "text/x-python",
   "name": "python",
   "nbconvert_exporter": "python",
   "pygments_lexer": "ipython3",
   "version": "3.8.3"
  }
 },
 "nbformat": 4,
 "nbformat_minor": 4
}
